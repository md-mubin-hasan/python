{
 "cells": [
  {
   "cell_type": "markdown",
   "metadata": {
    "id": "NrMPXNaoa4Ds"
   },
   "source": [
    "# Data Visualization using Python, Matplotlib and Seaborn\n",
    "\n",
    "\n",
    "![](https://i.imgur.com/9i806Rh.png)\n",
    "\n",
    "### Part 8 of \"Data Analysis with Python: Zero to Pandas\"\n",
    "\n",
    "\n",
    "This tutorial series is a beginner-friendly introduction to programming and data analysis using the Python programming language. These tutorials take a practical and coding-focused approach. The best way to learn the material is to execute the code and experiment with it yourself. Check out the full series here: \n",
    "\n",
    "1. [First Steps with Python and Jupyter](https://jovian.ai/aakashns/first-steps-with-python)\n",
    "2. [A Quick Tour of Variables and Data Types](https://jovian.ai/aakashns/python-variables-and-data-types)\n",
    "3. [Branching using Conditional Statements and Loops](https://jovian.ai/aakashns/python-branching-and-loops)\n",
    "4. [Writing Reusable Code Using Functions](https://jovian.ai/aakashns/python-functions-and-scope)\n",
    "5. [Reading from and Writing to Files](https://jovian.ai/aakashns/python-os-and-filesystem)\n",
    "6. [Numerical Computing with Python and Numpy](https://jovian.ai/aakashns/python-numerical-computing-with-numpy)\n",
    "7. [Analyzing Tabular Data using Pandas](https://jovian.ai/aakashns/python-pandas-data-analysis)\n",
    "8. [Data Visualization using Matplotlib & Seaborn](https://jovian.ai/aakashns/python-matplotlib-data-visualization)\n",
    "9. [Exploratory Data Analysis - A Case Study](https://jovian.ai/aakashns/python-eda-stackoverflow-survey)\n"
   ]
  },
  {
   "cell_type": "markdown",
   "metadata": {
    "id": "3Oy16Qfja4Dy"
   },
   "source": [
    "This tutorial covers the following topics:\n",
    "\n",
    "- Creating and customizing line charts using Matplotlib\n",
    "- Visualizing relationships between two or more variables using scatter plots\n",
    "- Studying distributions of variables using histograms & bar charts to \n",
    "- Visualizing two-dimensional data using heatmaps\n",
    "- Displaying images using Matplotlib's `plt.imshow`\n",
    "- Plotting multiple Matplotlib and Seaborn charts in a grid"
   ]
  },
  {
   "cell_type": "markdown",
   "metadata": {
    "id": "jpYEjDKLa4Dy"
   },
   "source": [
    "### How to run the code\n",
    "\n",
    "This tutorial is an executable [Jupyter notebook](https://jupyter.org) hosted on [Jovian](https://www.jovian.ai). You can _run_ this tutorial and experiment with the code examples in a couple of ways: *using free online resources* (recommended) or *on your computer*.\n",
    "\n",
    "#### Option 1: Running using free online resources (1-click, recommended)\n",
    "\n",
    "The easiest way to start executing the code is to click the **Run** button at the top of this page and select **Run on Binder**. You can also select \"Run on Colab\" or \"Run on Kaggle\", but you'll need to create an account on [Google Colab](https://colab.research.google.com) or [Kaggle](https://kaggle.com) to use these platforms.\n",
    "\n",
    "\n",
    "#### Option 2: Running on your computer locally\n",
    "\n",
    "To run the code on your computer locally, you'll need to set up [Python](https://www.python.org), download the notebook and install the required libraries. We recommend using the [Conda](https://docs.conda.io/projects/conda/en/latest/user-guide/install/) distribution of Python. Click the **Run** button at the top of this page, select the **Run Locally** option, and follow the instructions.\n",
    "\n",
    ">  **Jupyter Notebooks**: This tutorial is a [Jupyter notebook](https://jupyter.org) - a document made of _cells_. Each cell can contain code written in Python or explanations in plain English. You can execute code cells and view the results, e.g., numbers, messages, graphs, tables, files, etc., instantly within the notebook. Jupyter is a powerful platform for experimentation and analysis. Don't be afraid to mess around with the code & break things - you'll learn a lot by encountering and fixing errors. You can use the \"Kernel > Restart & Clear Output\" menu option to clear all outputs and start again from the top."
   ]
  },
  {
   "cell_type": "markdown",
   "metadata": {
    "id": "xJmmWBx5a4Dz"
   },
   "source": [
    "## Introduction\n",
    "\n",
    "Data visualization is the graphic representation of data. It involves producing images that communicate relationships among the represented data to viewers. Visualizing data is an essential part of data analysis and machine learning. We'll use Python libraries [Matplotlib](https://matplotlib.org) and [Seaborn](https://seaborn.pydata.org) to learn and apply some popular data visualization techniques. We'll use the words _chart_, _plot_, and _graph_ interchangeably in this tutorial.\n",
    "\n",
    "To begin, let's install and import the libraries. We'll use the `matplotlib.pyplot` module for basic plots like line & bar charts. It is often imported with the alias `plt`. We'll use the `seaborn` module for more advanced plots. It is commonly imported with the alias `sns`. "
   ]
  },
  {
   "cell_type": "code",
   "execution_count": null,
   "metadata": {
    "id": "T3qufgLZa4D3"
   },
   "outputs": [],
   "source": [
    "!pip install matplotlib seaborn --upgrade --quiet"
   ]
  },
  {
   "cell_type": "code",
   "execution_count": null,
   "metadata": {
    "id": "ZJhBdJOea4D4"
   },
   "outputs": [],
   "source": [
    "import matplotlib.pyplot as plt\n",
    "import seaborn as sns\n",
    "%matplotlib inline"
   ]
  },
  {
   "cell_type": "markdown",
   "metadata": {
    "id": "2v-qe35Ya4D5"
   },
   "source": [
    "Notice this we also include the special command `%matplotlib inline` to ensure that our plots are shown and embedded within the Jupyter notebook itself. Without this command, sometimes plots may show up in pop-up windows."
   ]
  },
  {
   "cell_type": "markdown",
   "metadata": {
    "id": "4Rm3ZzoKa4D5"
   },
   "source": [
    "## Line Chart\n",
    "\n",
    "The line chart is one of the simplest and most widely used data visualization techniques. A line chart displays information as a series of data points or markers connected by straight lines. You can customize the shape, size, color, and other aesthetic elements of the lines and markers for better visual clarity.\n",
    "\n",
    "Here's a Python list showing the yield of apples (tons per hectare) over six years in an imaginary country called Kanto."
   ]
  },
  {
   "cell_type": "code",
   "execution_count": null,
   "metadata": {
    "id": "_DDZX4jGa4D6"
   },
   "outputs": [],
   "source": [
    "yield_apples = [0.895, 0.91, 0.919, 0.926, 0.929, 0.931]"
   ]
  },
  {
   "cell_type": "markdown",
   "metadata": {
    "id": "pzbRIhSqa4D6"
   },
   "source": [
    "We can visualize how the yield of apples changes over time using a line chart. To draw a line chart, we can use the `plt.plot` function."
   ]
  },
  {
   "cell_type": "code",
   "execution_count": null,
   "metadata": {
    "id": "WgGi-9HXa4D6",
    "outputId": "205552da-e7b6-415a-91eb-9f567342ae8f"
   },
   "outputs": [],
   "source": [
    "plt.plot(yield_apples)"
   ]
  },
  {
   "cell_type": "markdown",
   "metadata": {
    "id": "cULKjLgxa4D7"
   },
   "source": [
    "Calling the `plt.plot` function draws the line chart as expected. It also returns a list of plots drawn `[<matplotlib.lines.Line2D at 0x7ff70aa20760>]`, shown within the output. We can include a semicolon (`;`) at the end of the last statement in the cell to avoiding showing the output and display just the graph."
   ]
  },
  {
   "cell_type": "code",
   "execution_count": null,
   "metadata": {
    "id": "X2QFzOqga4D7",
    "outputId": "f9deb7d4-2c96-49c9-890a-528ae2ace351"
   },
   "outputs": [],
   "source": [
    "plt.plot(yield_apples);"
   ]
  },
  {
   "cell_type": "markdown",
   "metadata": {
    "id": "5Es2Djlla4D7"
   },
   "source": [
    "Let's enhance this plot step-by-step to make it more informative and beautiful."
   ]
  },
  {
   "cell_type": "markdown",
   "metadata": {
    "id": "Nl6zebp4a4D8"
   },
   "source": [
    "### Customizing the X-axis\n",
    "\n",
    "The X-axis of the plot currently shows list element indexes 0 to 5. The plot would be more informative if we could display the year for which we're plotting the data. We can do this by two arguments `plt.plot`."
   ]
  },
  {
   "cell_type": "code",
   "execution_count": null,
   "metadata": {
    "id": "W8LPHvYsa4D8"
   },
   "outputs": [],
   "source": [
    "years = [2010, 2011, 2012, 2013, 2014, 2015]\n",
    "yield_apples = [0.895, 0.91, 0.919, 0.926, 0.929, 0.931]"
   ]
  },
  {
   "cell_type": "code",
   "execution_count": null,
   "metadata": {
    "id": "OjweGc31a4D8",
    "outputId": "3c1b631a-1bac-44b4-dfe8-57c85b5c4cd2"
   },
   "outputs": [],
   "source": [
    "plt.plot(years, yield_apples)"
   ]
  },
  {
   "cell_type": "markdown",
   "metadata": {
    "id": "d2YjqbHHa4D8"
   },
   "source": [
    "### Axis Labels\n",
    "\n",
    "We can add labels to the axes to show what each axis represents using the `plt.xlabel` and `plt.ylabel` methods."
   ]
  },
  {
   "cell_type": "code",
   "execution_count": null,
   "metadata": {
    "id": "q7HCXJx3a4D8",
    "outputId": "e4091af0-8399-4a56-ba87-b7ab4ffec705"
   },
   "outputs": [],
   "source": [
    "plt.plot(years, yield_apples)\n",
    "plt.xlabel('Year')\n",
    "plt.ylabel('Yield (tons per hectare)');"
   ]
  },
  {
   "cell_type": "markdown",
   "metadata": {
    "id": "EGTKAIqxa4D9"
   },
   "source": [
    "### Plotting Multiple Lines\n",
    "\n",
    "You can invoke the `plt.plot` function once for each line to plot multiple lines in the same graph. Let's compare the yields of apples vs. oranges in Kanto."
   ]
  },
  {
   "cell_type": "code",
   "execution_count": null,
   "metadata": {
    "id": "ruA-LW1Ma4D9"
   },
   "outputs": [],
   "source": [
    "years = range(2000, 2012)\n",
    "apples = [0.895, 0.91, 0.919, 0.926, 0.929, 0.931, 0.934, 0.936, 0.937, 0.9375, 0.9372, 0.939]\n",
    "oranges = [0.962, 0.941, 0.930, 0.923, 0.918, 0.908, 0.907, 0.904, 0.901, 0.898, 0.9, 0.896, ]"
   ]
  },
  {
   "cell_type": "code",
   "execution_count": null,
   "metadata": {
    "id": "Gnt1gdS9a4D9",
    "outputId": "97d24658-9666-4cdb-96ec-34b906a63389"
   },
   "outputs": [],
   "source": [
    "plt.plot(years, apples)\n",
    "plt.plot(years, oranges)\n",
    "plt.xlabel('Year')\n",
    "plt.ylabel('Yield (tons per hectare)');"
   ]
  },
  {
   "cell_type": "markdown",
   "metadata": {
    "id": "SFOZY9p8a4D9"
   },
   "source": [
    "### Chart Title and  Legend\n",
    "\n",
    "To differentiate between multiple lines, we can include a legend within the graph using the `plt.legend` function. We can also set a title for the chart using the `plt.title` function."
   ]
  },
  {
   "cell_type": "code",
   "execution_count": null,
   "metadata": {
    "id": "ROwDZKD5a4D9",
    "outputId": "9fedae09-dc6d-45db-eeff-758048eba663"
   },
   "outputs": [],
   "source": [
    "plt.plot(years, apples)\n",
    "plt.plot(years, oranges)\n",
    "\n",
    "plt.xlabel('Year')\n",
    "plt.ylabel('Yield (tons per hectare)')\n",
    "\n",
    "plt.title(\"Crop Yields in Kanto\")\n",
    "plt.legend(['Apples', 'Oranges']);"
   ]
  },
  {
   "cell_type": "markdown",
   "metadata": {
    "id": "TR-Rn-gta4D-"
   },
   "source": [
    "### Line Markers\n",
    "\n",
    "We can also show markers for the data points on each line using the `marker` argument of `plt.plot`. Matplotlib provides many different markers, like a circle, cross, square, diamond, etc. You can find the full list of marker types here: https://matplotlib.org/3.1.1/api/markers_api.html ."
   ]
  },
  {
   "cell_type": "code",
   "execution_count": null,
   "metadata": {
    "id": "xSR51jRha4D-",
    "outputId": "eaea3161-9e5a-43c4-ef90-6151b527f6b9"
   },
   "outputs": [],
   "source": [
    "plt.plot(years, apples, marker='o')\n",
    "plt.plot(years, oranges, marker='x')\n",
    "\n",
    "plt.xlabel('Year')\n",
    "plt.ylabel('Yield (tons per hectare)')\n",
    "\n",
    "plt.title(\"Crop Yields in Kanto\")\n",
    "plt.legend(['Apples', 'Oranges']);"
   ]
  },
  {
   "cell_type": "markdown",
   "metadata": {
    "id": "E0ShRksta4D-"
   },
   "source": [
    "### Styling Lines and Markers\n",
    "\n",
    "The `plt.plot` function supports many arguments for styling lines and markers:\n",
    "\n",
    "- `color` or `c`: Set the color of the line ([supported colors](https://matplotlib.org/3.1.0/gallery/color/named_colors.html))\n",
    "- `linestyle` or `ls`: Choose between a solid or dashed line\n",
    "- `linewidth` or `lw`: Set the width of a line\n",
    "- `markersize` or `ms`: Set the size of markers\n",
    "- `markeredgecolor` or `mec`: Set the edge color for markers\n",
    "- `markeredgewidth` or `mew`: Set the edge width for markers\n",
    "- `markerfacecolor` or `mfc`: Set the fill color for markers\n",
    "- `alpha`: Opacity of the plot\n",
    "\n",
    "\n",
    "Check out the documentation for `plt.plot` to learn more: [https://matplotlib.org/api/_as_gen/matplotlib.pyplot.plot.html#matplotlib.pyplot.plot](https://matplotlib.org/api/_as_gen/matplotlib.pyplot.plot.html#matplotlib.pyplot.plot) ."
   ]
  },
  {
   "cell_type": "code",
   "execution_count": null,
   "metadata": {
    "id": "OBRZvoZKa4D-",
    "outputId": "fe38801f-b024-46da-dc1d-df2b561fe554"
   },
   "outputs": [],
   "source": [
    "plt.plot(years, apples, marker='s', c='b', ls='-', lw=2, ms=8, mew=2, mec='navy')\n",
    "plt.plot(years, oranges, marker='o', c='r', ls='--', lw=3, ms=10, alpha=.5)\n",
    "\n",
    "plt.xlabel('Year')\n",
    "plt.ylabel('Yield (tons per hectare)')\n",
    "\n",
    "plt.title(\"Crop Yields in Kanto\")\n",
    "plt.legend(['Apples', 'Oranges']);"
   ]
  },
  {
   "cell_type": "markdown",
   "metadata": {
    "id": "YH5Nda3ja4D-"
   },
   "source": [
    "The `fmt` argument provides a shorthand for specifying the marker shape, line style, and line color. It can be provided as the third argument to `plt.plot`.\n",
    "\n",
    "```\n",
    "fmt = '[marker][line][color]'\n",
    "```\n",
    "\n"
   ]
  },
  {
   "cell_type": "code",
   "execution_count": null,
   "metadata": {
    "id": "BBlcGH0ia4D-",
    "outputId": "4ba2dfae-7499-486a-9379-cf060980f868"
   },
   "outputs": [],
   "source": [
    "plt.plot(years, apples, 's-b')\n",
    "plt.plot(years, oranges, 'o--r')\n",
    "\n",
    "plt.xlabel('Year')\n",
    "plt.ylabel('Yield (tons per hectare)')\n",
    "\n",
    "plt.title(\"Crop Yields in Kanto\")\n",
    "plt.legend(['Apples', 'Oranges']);"
   ]
  },
  {
   "cell_type": "markdown",
   "metadata": {
    "id": "F-yzIeKAa4D_"
   },
   "source": [
    "If you don't specify a line style in `fmt`, only markers are drawn."
   ]
  },
  {
   "cell_type": "code",
   "execution_count": null,
   "metadata": {
    "id": "N50gcqp3a4D_",
    "outputId": "f47a9998-1daf-478e-b3ea-572deaaa0f86"
   },
   "outputs": [],
   "source": [
    "plt.plot(years, oranges, 'or')\n",
    "plt.title(\"Yield of Oranges (tons per hectare)\");"
   ]
  },
  {
   "cell_type": "markdown",
   "metadata": {
    "id": "6rQHwMcra4D_"
   },
   "source": [
    "### Changing the Figure Size\n",
    "\n",
    "You can use the `plt.figure` function to change the size of the figure."
   ]
  },
  {
   "cell_type": "code",
   "execution_count": null,
   "metadata": {
    "id": "h43BOqi0a4D_",
    "outputId": "f96820da-c5cf-4519-b08b-5a2f7eb5db17"
   },
   "outputs": [],
   "source": [
    "plt.figure(figsize=(12, 6))\n",
    "\n",
    "plt.plot(years, oranges, 'or')\n",
    "plt.title(\"Yield of Oranges (tons per hectare)\");"
   ]
  },
  {
   "cell_type": "markdown",
   "metadata": {
    "id": "titkEv_Xa4D_"
   },
   "source": [
    "### Improving Default Styles using Seaborn\n",
    "\n",
    "An easy way to make your charts look beautiful is to use some default styles from the Seaborn library. These can be applied globally using the `sns.set_style` function. You can see a full list of predefined styles here: https://seaborn.pydata.org/generated/seaborn.set_style.html ."
   ]
  },
  {
   "cell_type": "code",
   "execution_count": null,
   "metadata": {
    "id": "js9osjwia4D_"
   },
   "outputs": [],
   "source": [
    "sns.set_style(\"whitegrid\")"
   ]
  },
  {
   "cell_type": "code",
   "execution_count": null,
   "metadata": {
    "id": "-4v1VojKa4D_",
    "outputId": "5af974b9-68e2-43fc-b202-447cb5a05f57"
   },
   "outputs": [],
   "source": [
    "plt.plot(years, apples, 's-b')\n",
    "plt.plot(years, oranges, 'o--r')\n",
    "\n",
    "plt.xlabel('Year')\n",
    "plt.ylabel('Yield (tons per hectare)')\n",
    "\n",
    "plt.title(\"Crop Yields in Kanto\")\n",
    "plt.legend(['Apples', 'Oranges']);"
   ]
  },
  {
   "cell_type": "code",
   "execution_count": null,
   "metadata": {
    "id": "MthJdaEca4D_"
   },
   "outputs": [],
   "source": [
    "sns.set_style(\"darkgrid\")"
   ]
  },
  {
   "cell_type": "code",
   "execution_count": null,
   "metadata": {
    "id": "VIuuKbJha4EA",
    "outputId": "d4ddfc4d-b5d8-4b44-bc23-c56ef15f4b67"
   },
   "outputs": [],
   "source": [
    "plt.plot(years, apples, 's-b')\n",
    "plt.plot(years, oranges, 'o--r')\n",
    "\n",
    "plt.xlabel('Year')\n",
    "plt.ylabel('Yield (tons per hectare)')\n",
    "\n",
    "plt.title(\"Crop Yields in Kanto\")\n",
    "plt.legend(['Apples', 'Oranges']);"
   ]
  },
  {
   "cell_type": "code",
   "execution_count": null,
   "metadata": {
    "id": "ooBq0op8a4EA",
    "outputId": "2c7026b3-1efe-45fd-abf9-79207e4d2a78"
   },
   "outputs": [],
   "source": [
    "plt.plot(years, oranges, 'or')\n",
    "plt.title(\"Yield of Oranges (tons per hectare)\");"
   ]
  },
  {
   "cell_type": "markdown",
   "metadata": {
    "id": "98EIed49a4EA"
   },
   "source": [
    "You can also edit default styles directly by modifying the `matplotlib.rcParams` dictionary. Learn more: https://matplotlib.org/3.2.1/tutorials/introductory/customizing.html#matplotlib-rcparams ."
   ]
  },
  {
   "cell_type": "code",
   "execution_count": null,
   "metadata": {
    "id": "5unLqySha4EA"
   },
   "outputs": [],
   "source": [
    "import matplotlib"
   ]
  },
  {
   "cell_type": "code",
   "execution_count": null,
   "metadata": {
    "id": "8d4rnGxOa4EA"
   },
   "outputs": [],
   "source": [
    "matplotlib.rcParams['font.size'] = 14\n",
    "matplotlib.rcParams['figure.figsize'] = (9, 5)\n",
    "matplotlib.rcParams['figure.facecolor'] = '#00000000'"
   ]
  },
  {
   "cell_type": "markdown",
   "metadata": {
    "id": "MEQgAGNSa4EA"
   },
   "source": [
    "### Save and upload your notebook\n",
    "\n",
    "Whether you're running this Jupyter notebook online or on your computer, it's essential to save your work from time to time. You can continue working on a saved notebook later or share it with friends and colleagues to let them execute your code. [Jovian](https://www.jovian.ai) offers an easy way of saving and sharing your Jupyter notebooks online."
   ]
  },
  {
   "cell_type": "code",
   "execution_count": null,
   "metadata": {
    "id": "qXD36qOUa4EA"
   },
   "outputs": [],
   "source": [
    "# Install the library \n",
    "!pip install jovian --upgrade --quiet"
   ]
  },
  {
   "cell_type": "code",
   "execution_count": null,
   "metadata": {
    "id": "3ICjZH4Qa4EA"
   },
   "outputs": [],
   "source": [
    "import jovian"
   ]
  },
  {
   "cell_type": "code",
   "execution_count": null,
   "metadata": {
    "id": "w7lZ7MLLa4EA",
    "outputId": "fce8966a-29ed-4f79-9db8-86d862cc900a"
   },
   "outputs": [],
   "source": [
    "jovian.commit(project='python-matplotlib-data-visualization')"
   ]
  },
  {
   "cell_type": "markdown",
   "metadata": {
    "id": "1TUaVB6Ta4EB"
   },
   "source": [
    "The first time you run `jovian.commit`, you'll be asked to provide an API Key to securely upload the notebook to your Jovian account. You can get the API key from your [Jovian profile page](https://jovian.ai) after logging in / signing up.\n",
    "\n",
    "\n",
    "`jovian.commit` uploads the notebook to your Jovian account, captures the Python environment, and creates a shareable link for your notebook, as shown above. You can use this link to share your work and let anyone (including you) run your notebooks and reproduce your work."
   ]
  },
  {
   "cell_type": "markdown",
   "metadata": {
    "id": "V3rvHEDqa4EB"
   },
   "source": [
    "## Scatter Plot\n",
    "\n",
    "In a scatter plot, the values of 2 variables are plotted as points on a 2-dimensional grid. Additionally, you can also use a third variable to determine the size or color of the points. Let's try out an example.\n",
    "\n",
    "The [Iris flower dataset](https://en.wikipedia.org/wiki/Iris_flower_data_set) provides sample measurements of sepals and petals for three species of flowers. The Iris dataset is included with the Seaborn library and can be loaded as a Pandas data frame."
   ]
  },
  {
   "cell_type": "code",
   "execution_count": null,
   "metadata": {
    "id": "IP7qq3U6a4EB"
   },
   "outputs": [],
   "source": [
    "# Load data into a Pandas dataframe\n",
    "flowers_df = sns.load_dataset(\"iris\")"
   ]
  },
  {
   "cell_type": "code",
   "execution_count": null,
   "metadata": {
    "id": "P6jtK7f_a4EB",
    "outputId": "316dba38-0f51-41b6-b511-a7fa5905b831"
   },
   "outputs": [],
   "source": [
    "flowers_df"
   ]
  },
  {
   "cell_type": "code",
   "execution_count": null,
   "metadata": {
    "id": "xKTU5RiGa4EB",
    "outputId": "bb96628f-1b83-43e5-e3e1-ceb89b8debb8"
   },
   "outputs": [],
   "source": [
    "flowers_df.species.unique()"
   ]
  },
  {
   "cell_type": "markdown",
   "metadata": {
    "id": "72upNsUta4EB"
   },
   "source": [
    "Let's try to visualize the relationship between sepal length and sepal width. Our first instinct might be to create a line chart using `plt.plot`."
   ]
  },
  {
   "cell_type": "code",
   "execution_count": null,
   "metadata": {
    "id": "aBsGx8hUa4EB",
    "outputId": "e509714d-aaee-4d18-99ad-33de19fc90be"
   },
   "outputs": [],
   "source": [
    "plt.plot(flowers_df.sepal_length, flowers_df.sepal_width);"
   ]
  },
  {
   "cell_type": "markdown",
   "metadata": {
    "id": "h2dkEf7Ga4EB"
   },
   "source": [
    "The output is not very informative as there are too many combinations of the two properties within the dataset. There doesn't seem to be simple relationship between them.\n",
    "\n",
    "We can use a scatter plot to visualize how sepal length & sepal width vary using the `scatterplot` function from the `seaborn` module (imported as `sns`)."
   ]
  },
  {
   "cell_type": "code",
   "execution_count": null,
   "metadata": {
    "id": "VMJBsiPSa4EB",
    "outputId": "2a77b91b-424f-4e11-91a0-85f19f02fb1d"
   },
   "outputs": [],
   "source": [
    "sns.scatterplot(x=flowers_df.sepal_length, y=flowers_df.sepal_width);"
   ]
  },
  {
   "cell_type": "markdown",
   "metadata": {
    "id": "uZOcPp5ka4EB"
   },
   "source": [
    "### Adding Hues\n",
    "\n",
    "Notice how the points in the above plot seem to form distinct clusters with some outliers. We can color the dots using the flower species as a `hue`. We can also make the points larger using the `s` argument."
   ]
  },
  {
   "cell_type": "code",
   "execution_count": null,
   "metadata": {
    "id": "d_ztgnfMa4EB",
    "outputId": "4ee14ff5-e56b-40bb-c499-d52a413e2b5e"
   },
   "outputs": [],
   "source": [
    "sns.scatterplot(x=flowers_df.sepal_length, y=flowers_df.sepal_width, hue=flowers_df.species, s=100);"
   ]
  },
  {
   "cell_type": "markdown",
   "metadata": {
    "id": "Xm_1-M2Ta4EC"
   },
   "source": [
    "Adding hues makes the plot more informative. We can immediately tell that Setosa flowers have a smaller sepal length but higher sepal widths. In contrast, the opposite is true for Virginica flowers. "
   ]
  },
  {
   "cell_type": "markdown",
   "metadata": {
    "id": "MEFbj98na4EC"
   },
   "source": [
    "### Customizing Seaborn Figures\n",
    "\n",
    "Since Seaborn uses Matplotlib's plotting functions internally, we can use functions like `plt.figure` and `plt.title` to modify the figure."
   ]
  },
  {
   "cell_type": "code",
   "execution_count": null,
   "metadata": {
    "id": "Pl2y184Da4EC",
    "outputId": "ac98bb10-8f1b-4c06-bd37-462118ea2b58"
   },
   "outputs": [],
   "source": [
    "plt.figure(figsize=(12, 6))\n",
    "plt.title('Sepal Dimensions')\n",
    "\n",
    "sns.scatterplot(x=flowers_df.sepal_length, \n",
    "                y=flowers_df.sepal_width, \n",
    "                hue=flowers_df.species,\n",
    "                s=100);"
   ]
  },
  {
   "cell_type": "markdown",
   "metadata": {
    "id": "5DRM4cdaa4EC"
   },
   "source": [
    "### Plotting using Pandas Data Frames\n",
    "\n",
    "Seaborn has in-built support for Pandas data frames. Instead of passing each column as a series, you can provide column names and use the `data` argument to specify a data frame."
   ]
  },
  {
   "cell_type": "code",
   "execution_count": null,
   "metadata": {
    "id": "DvzynQwua4EC",
    "outputId": "ab5fbeab-dd45-431d-fe0c-da67b1037f55"
   },
   "outputs": [],
   "source": [
    "plt.title('Sepal Dimensions')\n",
    "sns.scatterplot(x='sepal_length', \n",
    "                y='sepal_width', \n",
    "                hue='species',\n",
    "                s=100,\n",
    "                data=flowers_df);"
   ]
  },
  {
   "cell_type": "markdown",
   "metadata": {
    "id": "svxe4vOna4EC"
   },
   "source": [
    "Let's save and upload our work before continuing."
   ]
  },
  {
   "cell_type": "code",
   "execution_count": null,
   "metadata": {
    "id": "491jmecna4EC"
   },
   "outputs": [],
   "source": [
    "import jovian"
   ]
  },
  {
   "cell_type": "code",
   "execution_count": null,
   "metadata": {
    "id": "LejbUHQ4a4EC",
    "outputId": "c11d9687-cb6e-43a5-9a97-fef5c14b1bdb",
    "scrolled": true
   },
   "outputs": [],
   "source": [
    "jovian.commit()"
   ]
  },
  {
   "cell_type": "markdown",
   "metadata": {
    "id": "87mcgJh7a4ED"
   },
   "source": [
    "## Histogram\n",
    "\n",
    "A histogram represents the distribution of a variable by creating bins (interval) along the range of values and showing vertical bars to indicate the number of observations in each bin. \n",
    "\n",
    "For example, let's visualize the distribution of values of sepal width in the flowers dataset. We can use the `plt.hist` function to create a histogram."
   ]
  },
  {
   "cell_type": "code",
   "execution_count": null,
   "metadata": {
    "id": "OZ8eTzVha4ED"
   },
   "outputs": [],
   "source": [
    "# Load data into a Pandas dataframe\n",
    "flowers_df = sns.load_dataset(\"iris\")"
   ]
  },
  {
   "cell_type": "code",
   "execution_count": null,
   "metadata": {
    "id": "R_5xINTTa4ED",
    "outputId": "fd3e0bf4-6de1-4b86-9c41-bee04ce0bc28"
   },
   "outputs": [],
   "source": [
    "flowers_df.sepal_width"
   ]
  },
  {
   "cell_type": "code",
   "execution_count": null,
   "metadata": {
    "id": "FIFkQBBUa4ED",
    "outputId": "d223d66c-bd6e-4db1-82f2-08df534b7d0d"
   },
   "outputs": [],
   "source": [
    "plt.title(\"Distribution of Sepal Width\")\n",
    "plt.hist(flowers_df.sepal_width);"
   ]
  },
  {
   "cell_type": "markdown",
   "metadata": {
    "id": "p6Uh8Kfda4ED"
   },
   "source": [
    "We can immediately see that the sepal widths lie in the range 2.0 - 4.5, and around 35 values are in the range 2.9 - 3.1, which seems to be the most populous bin."
   ]
  },
  {
   "cell_type": "markdown",
   "metadata": {
    "id": "SPRZms7va4EE"
   },
   "source": [
    "### Controlling the size and number of bins\n",
    "\n",
    "We can control the number of bins or the size of each one using the bins argument.\n"
   ]
  },
  {
   "cell_type": "code",
   "execution_count": null,
   "metadata": {
    "id": "gmYDDRN-a4EE",
    "outputId": "4c91a57b-22ca-4afe-862a-5a2b4f6c1929"
   },
   "outputs": [],
   "source": [
    "# Specifying the number of bins\n",
    "plt.hist(flowers_df.sepal_width, bins=5);"
   ]
  },
  {
   "cell_type": "code",
   "execution_count": null,
   "metadata": {
    "id": "VT-GqR6Ha4EE",
    "outputId": "2fe17861-9d54-4b78-e44d-8ad60ba97f46"
   },
   "outputs": [],
   "source": [
    "import numpy as np\n",
    "\n",
    "# Specifying the boundaries of each bin\n",
    "plt.hist(flowers_df.sepal_width, bins=np.arange(2, 5, 0.25));"
   ]
  },
  {
   "cell_type": "code",
   "execution_count": null,
   "metadata": {
    "id": "feheTZHpa4EE",
    "outputId": "631b48ec-790a-48a3-fc3d-a84d40454fb3"
   },
   "outputs": [],
   "source": [
    "# Bins of unequal sizes\n",
    "plt.hist(flowers_df.sepal_width, bins=[1, 3, 4, 4.5]);"
   ]
  },
  {
   "cell_type": "markdown",
   "metadata": {
    "id": "vR-jOT8Wa4EF"
   },
   "source": [
    "### Multiple Histograms\n",
    "\n",
    "Similar to line charts, we can draw multiple histograms in a single chart. We can reduce each histogram's opacity  so that one histogram's bars don't hide the others'.\n",
    "\n",
    "Let's draw separate histograms for each species of flowers."
   ]
  },
  {
   "cell_type": "code",
   "execution_count": null,
   "metadata": {
    "id": "XavFmuAEa4EF"
   },
   "outputs": [],
   "source": [
    "setosa_df = flowers_df[flowers_df.species == 'setosa']\n",
    "versicolor_df = flowers_df[flowers_df.species == 'versicolor']\n",
    "virginica_df = flowers_df[flowers_df.species == 'virginica']"
   ]
  },
  {
   "cell_type": "code",
   "execution_count": null,
   "metadata": {
    "id": "OFyAZeCRa4EF",
    "outputId": "8fa452ad-5cee-4dc0-9627-4db06ee6b8c2"
   },
   "outputs": [],
   "source": [
    "plt.hist(setosa_df.sepal_width, alpha=0.4, bins=np.arange(2, 5, 0.25));\n",
    "plt.hist(versicolor_df.sepal_width, alpha=0.4, bins=np.arange(2, 5, 0.25));"
   ]
  },
  {
   "cell_type": "markdown",
   "metadata": {
    "id": "qMetJsLBa4EF"
   },
   "source": [
    "We can also stack multiple histograms on top of one another."
   ]
  },
  {
   "cell_type": "code",
   "execution_count": null,
   "metadata": {
    "id": "v_XzaFBra4EF",
    "outputId": "99af2fbe-41af-4bc2-e0da-87cd91b7fb69"
   },
   "outputs": [],
   "source": [
    "plt.title('Distribution of Sepal Width')\n",
    "\n",
    "plt.hist([setosa_df.sepal_width, versicolor_df.sepal_width, virginica_df.sepal_width], \n",
    "         bins=np.arange(2, 5, 0.25), \n",
    "         stacked=True);\n",
    "\n",
    "plt.legend(['Setosa', 'Versicolor', 'Virginica']);"
   ]
  },
  {
   "cell_type": "markdown",
   "metadata": {
    "id": "XBuA63dUa4EG"
   },
   "source": [
    "Let's save and commit our work before continuing"
   ]
  },
  {
   "cell_type": "code",
   "execution_count": null,
   "metadata": {
    "id": "S49zjdHQa4EG"
   },
   "outputs": [],
   "source": [
    "import jovian"
   ]
  },
  {
   "cell_type": "code",
   "execution_count": null,
   "metadata": {
    "id": "sTANDcbUa4EG",
    "outputId": "f24d846f-2989-4909-f284-30c539810274"
   },
   "outputs": [],
   "source": [
    "jovian.commit()"
   ]
  },
  {
   "cell_type": "markdown",
   "metadata": {
    "id": "jDFe7Y6Qa4EG"
   },
   "source": [
    "## Bar Chart\n",
    "\n",
    "Bar charts are quite similar to line charts, i.e., they show a sequence of values. However, a bar is shown for each value, rather than points connected by lines. We can use the `plt.bar` function to draw a bar chart."
   ]
  },
  {
   "cell_type": "code",
   "execution_count": null,
   "metadata": {
    "id": "KiAKsxQoa4EG"
   },
   "outputs": [],
   "source": [
    "years = range(2000, 2006)\n",
    "apples = [0.35, 0.6, 0.9, 0.8, 0.65, 0.8]\n",
    "oranges = [0.4, 0.8, 0.9, 0.7, 0.6, 0.8]"
   ]
  },
  {
   "cell_type": "code",
   "execution_count": null,
   "metadata": {
    "id": "ABljAHAQa4EG",
    "outputId": "2a176575-3540-487d-ffa6-4d6b1a2e8ba3"
   },
   "outputs": [],
   "source": [
    "plt.bar(years, oranges);"
   ]
  },
  {
   "cell_type": "markdown",
   "metadata": {
    "id": "nl4lKqxZa4EH"
   },
   "source": [
    "Like histograms, we can stack bars on top of one another. We use the `bottom` argument of `plt.bar` to achieve this."
   ]
  },
  {
   "cell_type": "code",
   "execution_count": null,
   "metadata": {
    "id": "5YWIjpRva4EH",
    "outputId": "ea7980b1-5e77-46f3-d2ad-f3e3e022747b"
   },
   "outputs": [],
   "source": [
    "plt.bar(years, apples)\n",
    "plt.bar(years, oranges, bottom=apples);"
   ]
  },
  {
   "cell_type": "markdown",
   "metadata": {
    "id": "XfxIrlGta4EH"
   },
   "source": [
    "### Bar Plots with Averages\n",
    "\n",
    "Let's look at another sample dataset included with Seaborn, called `tips`. The dataset contains information about the sex, time of day, total bill, and tip amount for customers visiting a restaurant over a week."
   ]
  },
  {
   "cell_type": "code",
   "execution_count": null,
   "metadata": {
    "id": "D_-aCGpNa4EH"
   },
   "outputs": [],
   "source": [
    "tips_df = sns.load_dataset(\"tips\");"
   ]
  },
  {
   "cell_type": "code",
   "execution_count": null,
   "metadata": {
    "id": "Xc98oDB5a4EH",
    "outputId": "0d876f2e-5c1e-4902-9801-d390cc919d64"
   },
   "outputs": [],
   "source": [
    "tips_df"
   ]
  },
  {
   "cell_type": "markdown",
   "metadata": {
    "id": "lq73n6qOa4EH"
   },
   "source": [
    "We might want to draw a bar chart to visualize how the average bill amount varies across different days of the week. One way to do this would be to compute the day-wise averages and then use `plt.bar` (try it as an exercise).\n",
    "\n",
    "However, since this is a very common use case, the Seaborn library provides a `barplot` function which can automatically compute averages."
   ]
  },
  {
   "cell_type": "code",
   "execution_count": null,
   "metadata": {
    "id": "-854cSeUa4EH",
    "outputId": "c1d45853-6733-48e5-8fb7-21bea33a2020"
   },
   "outputs": [],
   "source": [
    "sns.barplot(x='day', y='total_bill', data=tips_df);"
   ]
  },
  {
   "cell_type": "markdown",
   "metadata": {
    "id": "5C9cfGFKa4EH"
   },
   "source": [
    "The lines cutting each bar represent the amount of variation in the values. For instance, it seems like the variation in the total bill is relatively high on Fridays and low on Saturday.\n",
    "\n",
    "We can also specify a `hue` argument to compare bar plots side-by-side based on a third feature, e.g., sex."
   ]
  },
  {
   "cell_type": "code",
   "execution_count": null,
   "metadata": {
    "id": "WAqcdJF3a4EH",
    "outputId": "68190abf-aca0-4b69-dfaa-213ef1378f93"
   },
   "outputs": [],
   "source": [
    "sns.barplot(x='day', y='total_bill', hue='sex', data=tips_df);"
   ]
  },
  {
   "cell_type": "markdown",
   "metadata": {
    "id": "NuAzmanka4EH"
   },
   "source": [
    "You can make the bars horizontal simply by switching the axes."
   ]
  },
  {
   "cell_type": "code",
   "execution_count": null,
   "metadata": {
    "id": "OWqq1l_Ha4EH",
    "outputId": "da2c0f95-64fd-432d-ee7e-bfa223d00bd1"
   },
   "outputs": [],
   "source": [
    "sns.barplot(x='total_bill', y='day', hue='sex', data=tips_df);"
   ]
  },
  {
   "cell_type": "markdown",
   "metadata": {
    "id": "7x3ONW5ta4EI"
   },
   "source": [
    "Let's save and commit our work before continuing."
   ]
  },
  {
   "cell_type": "code",
   "execution_count": null,
   "metadata": {
    "id": "XKxzZFaSa4EI"
   },
   "outputs": [],
   "source": [
    "import jovian"
   ]
  },
  {
   "cell_type": "code",
   "execution_count": null,
   "metadata": {
    "id": "74tkBNGka4EI",
    "outputId": "34c49f27-3a58-414e-ee7f-cd904564ffc1"
   },
   "outputs": [],
   "source": [
    "jovian.commit()"
   ]
  },
  {
   "cell_type": "markdown",
   "metadata": {
    "id": "PQ3Kxn7Xa4EI"
   },
   "source": [
    "## Heatmap\n",
    "\n",
    "A heatmap is used to visualize 2-dimensional data like a matrix or a table using colors. The best way to understand it is by looking at an example. We'll use another sample dataset from Seaborn, called `flights`, to visualize monthly passenger footfall at an airport over 12 years."
   ]
  },
  {
   "cell_type": "code",
   "execution_count": null,
   "metadata": {
    "id": "Q4dhNh2Qa4EI"
   },
   "outputs": [],
   "source": [
    "flights_df = sns.load_dataset(\"flights\").pivot(\"month\", \"year\", \"passengers\")"
   ]
  },
  {
   "cell_type": "code",
   "execution_count": null,
   "metadata": {
    "id": "dK4pZERNa4EI",
    "outputId": "1139d75d-a93f-46e3-e6d7-2cc3a1ab0ee9"
   },
   "outputs": [],
   "source": [
    "flights_df"
   ]
  },
  {
   "cell_type": "markdown",
   "metadata": {
    "id": "Gl1XqEHFa4EI"
   },
   "source": [
    "`flights_df` is a matrix with one row for each month and one column for each year. The values show the number of passengers (in thousands) that visited the airport in a specific month of a year. We can use the `sns.heatmap` function to visualize the footfall at the airport."
   ]
  },
  {
   "cell_type": "code",
   "execution_count": null,
   "metadata": {
    "id": "yMgZgREDa4EJ",
    "outputId": "ba75131e-04ff-4eca-8f81-bc4395cc8f91"
   },
   "outputs": [],
   "source": [
    "plt.title(\"No. of Passengers (1000s)\")\n",
    "sns.heatmap(flights_df);"
   ]
  },
  {
   "cell_type": "markdown",
   "metadata": {
    "id": "nNZHvYQla4EJ"
   },
   "source": [
    "The brighter colors indicate a higher footfall at the airport. By looking at the graph, we can infer two things:\n",
    "\n",
    "- The footfall at the airport in any given year tends to be the highest around July & August.\n",
    "- The footfall at the airport in any given month tends to grow year by year.\n",
    "\n",
    "We can also display the actual values in each block by specifying `annot=True` and using the `cmap` argument to change the color palette."
   ]
  },
  {
   "cell_type": "code",
   "execution_count": null,
   "metadata": {
    "id": "2kUcHbbda4EJ",
    "outputId": "cad030b6-e261-46ae-f0d3-acc2a9394eae"
   },
   "outputs": [],
   "source": [
    "plt.title(\"No. of Passengers (1000s)\")\n",
    "sns.heatmap(flights_df, fmt=\"d\", annot=True, cmap='Blues');"
   ]
  },
  {
   "cell_type": "markdown",
   "metadata": {
    "id": "sRObJ9DOa4EJ"
   },
   "source": [
    "Let's save and upload our work before continuing."
   ]
  },
  {
   "cell_type": "code",
   "execution_count": null,
   "metadata": {
    "id": "OHgD65Kma4EJ"
   },
   "outputs": [],
   "source": [
    "import jovian"
   ]
  },
  {
   "cell_type": "code",
   "execution_count": null,
   "metadata": {
    "id": "htZVpj1La4EJ",
    "outputId": "055de698-1f95-4a36-ca2d-d52f58862ac2"
   },
   "outputs": [],
   "source": [
    "jovian.commit()"
   ]
  },
  {
   "cell_type": "markdown",
   "metadata": {
    "id": "wAZ3CmDna4EJ"
   },
   "source": [
    "## Images\n",
    "\n",
    "We can also use Matplotlib to display images. Let's download an image from the internet."
   ]
  },
  {
   "cell_type": "code",
   "execution_count": null,
   "metadata": {
    "id": "7153EsZGa4EK"
   },
   "outputs": [],
   "source": [
    "from urllib.request import urlretrieve"
   ]
  },
  {
   "cell_type": "code",
   "execution_count": null,
   "metadata": {
    "id": "J2uo7EKFa4EK"
   },
   "outputs": [],
   "source": [
    "urlretrieve('https://i.imgur.com/SkPbq.jpg', 'chart.jpg');"
   ]
  },
  {
   "cell_type": "markdown",
   "metadata": {
    "id": "QiKYldbVa4EK"
   },
   "source": [
    "Before displaying an image, it has to be read into memory using the `PIL` module."
   ]
  },
  {
   "cell_type": "code",
   "execution_count": null,
   "metadata": {
    "id": "udsPiqGda4EK"
   },
   "outputs": [],
   "source": [
    "from PIL import Image"
   ]
  },
  {
   "cell_type": "code",
   "execution_count": null,
   "metadata": {
    "id": "PkL-ltBQa4EK"
   },
   "outputs": [],
   "source": [
    "img = Image.open('chart.jpg')"
   ]
  },
  {
   "cell_type": "markdown",
   "metadata": {
    "id": "LjundlUga4EK"
   },
   "source": [
    "An image loaded using PIL is simply a 3-dimensional numpy array containing pixel intensities for the red, green & blue (RGB) channels of the image. We can convert the image into an array using `np.array`."
   ]
  },
  {
   "cell_type": "code",
   "execution_count": null,
   "metadata": {
    "id": "Fm-n-k07a4EK"
   },
   "outputs": [],
   "source": [
    "img_array = np.array(img)"
   ]
  },
  {
   "cell_type": "code",
   "execution_count": null,
   "metadata": {
    "id": "3FU-AEgqa4EL",
    "outputId": "7a6d13e0-ff52-4e86-81c8-31f003b3ca20"
   },
   "outputs": [],
   "source": [
    "img_array.shape"
   ]
  },
  {
   "cell_type": "markdown",
   "metadata": {
    "id": "wph8pODra4EL"
   },
   "source": [
    "We can display the PIL image using `plt.imshow`."
   ]
  },
  {
   "cell_type": "code",
   "execution_count": null,
   "metadata": {
    "id": "W4KXgzn3a4EL",
    "outputId": "a4371a84-9f3c-4ef2-8ead-6ccac25177ad"
   },
   "outputs": [],
   "source": [
    "plt.imshow(img);"
   ]
  },
  {
   "cell_type": "markdown",
   "metadata": {
    "id": "0yenWJWga4EL"
   },
   "source": [
    "We can turn off the axes & grid lines and show a title using the relevant functions."
   ]
  },
  {
   "cell_type": "code",
   "execution_count": null,
   "metadata": {
    "id": "qRf_0nzGa4EL",
    "outputId": "3db03274-80c1-43a3-fd8a-cae561085266"
   },
   "outputs": [],
   "source": [
    "plt.grid(False)\n",
    "plt.title('A data science meme')\n",
    "plt.axis('off')\n",
    "plt.imshow(img);"
   ]
  },
  {
   "cell_type": "markdown",
   "metadata": {
    "id": "OI7Q5NeQa4EL"
   },
   "source": [
    "To display a part of the image, we can simply select a slice from the numpy array."
   ]
  },
  {
   "cell_type": "code",
   "execution_count": null,
   "metadata": {
    "id": "zoCodsWSa4EL",
    "outputId": "0066f1d2-e317-4d92-da94-67ca072cca98"
   },
   "outputs": [],
   "source": [
    "plt.grid(False)\n",
    "plt.axis('off')\n",
    "plt.imshow(img_array[125:325,105:305]);"
   ]
  },
  {
   "cell_type": "markdown",
   "metadata": {
    "id": "x94rx6r4a4EM"
   },
   "source": [
    "## Plotting multiple charts in a grid\n",
    "\n",
    "Matplotlib and Seaborn also support plotting multiple charts in a grid, using `plt.subplots`, which returns a set of axes for plotting. \n",
    "\n",
    "Here's a single grid showing the different types of charts we've covered in this tutorial."
   ]
  },
  {
   "cell_type": "code",
   "execution_count": null,
   "metadata": {
    "id": "2dkv2Rr_a4EM",
    "outputId": "1df45754-7819-4a31-ad85-e0958c283ba4"
   },
   "outputs": [],
   "source": [
    "fig, axes = plt.subplots(2, 3, figsize=(16, 8))\n",
    "\n",
    "# Use the axes for plotting\n",
    "axes[0,0].plot(years, apples, 's-b')\n",
    "axes[0,0].plot(years, oranges, 'o--r')\n",
    "axes[0,0].set_xlabel('Year')\n",
    "axes[0,0].set_ylabel('Yield (tons per hectare)')\n",
    "axes[0,0].legend(['Apples', 'Oranges']);\n",
    "axes[0,0].set_title('Crop Yields in Kanto')\n",
    "\n",
    "\n",
    "# Pass the axes into seaborn\n",
    "axes[0,1].set_title('Sepal Length vs. Sepal Width')\n",
    "sns.scatterplot(x=flowers_df.sepal_length, \n",
    "                y=flowers_df.sepal_width, \n",
    "                hue=flowers_df.species, \n",
    "                s=100, \n",
    "                ax=axes[0,1]);\n",
    "\n",
    "# Use the axes for plotting\n",
    "axes[0,2].set_title('Distribution of Sepal Width')\n",
    "axes[0,2].hist([setosa_df.sepal_width, versicolor_df.sepal_width, virginica_df.sepal_width], \n",
    "         bins=np.arange(2, 5, 0.25), \n",
    "         stacked=True);\n",
    "\n",
    "axes[0,2].legend(['Setosa', 'Versicolor', 'Virginica']);\n",
    "\n",
    "# Pass the axes into seaborn\n",
    "axes[1,0].set_title('Restaurant bills')\n",
    "sns.barplot(x='day', y='total_bill', hue='sex', data=tips_df, ax=axes[1,0]);\n",
    "\n",
    "# Pass the axes into seaborn\n",
    "axes[1,1].set_title('Flight traffic')\n",
    "sns.heatmap(flights_df, cmap='Blues', ax=axes[1,1]);\n",
    "\n",
    "# Plot an image using the axes\n",
    "axes[1,2].set_title('Data Science Meme')\n",
    "axes[1,2].imshow(img)\n",
    "axes[1,2].grid(False)\n",
    "axes[1,2].set_xticks([])\n",
    "axes[1,2].set_yticks([])\n",
    "\n",
    "plt.tight_layout(pad=2);"
   ]
  },
  {
   "cell_type": "markdown",
   "metadata": {
    "id": "PC_4PBLua4EM"
   },
   "source": [
    "See this page for a full list of supported functions: https://matplotlib.org/3.3.1/api/axes_api.html#the-axes-class ."
   ]
  },
  {
   "cell_type": "markdown",
   "metadata": {
    "id": "YnleTOKQa4EM"
   },
   "source": [
    "### Pair plots with Seaborn\n",
    "\n",
    "Seaborn also provides a helper function `sns.pairplot` to automatically plot several different charts for pairs of features within a dataframe."
   ]
  },
  {
   "cell_type": "code",
   "execution_count": null,
   "metadata": {
    "id": "6GFJHzt5a4EM",
    "outputId": "1d9f0d4d-fec2-4b74-ab0a-d92f8756cf1f"
   },
   "outputs": [],
   "source": [
    "sns.pairplot(flowers_df, hue='species');"
   ]
  },
  {
   "cell_type": "code",
   "execution_count": null,
   "metadata": {
    "id": "RuQ3kJb2a4EM",
    "outputId": "d4629dc0-538b-4950-8180-a0ac54bd23d1"
   },
   "outputs": [],
   "source": [
    "sns.pairplot(tips_df, hue='sex');"
   ]
  },
  {
   "cell_type": "markdown",
   "metadata": {
    "id": "hnp4Y9sAa4EN"
   },
   "source": [
    "Let's save and upload our work before continuing."
   ]
  },
  {
   "cell_type": "code",
   "execution_count": null,
   "metadata": {
    "id": "dV2-iGDOa4EN"
   },
   "outputs": [],
   "source": [
    "import jovian"
   ]
  },
  {
   "cell_type": "code",
   "execution_count": null,
   "metadata": {
    "id": "FAW6rym2a4EN",
    "outputId": "11230c55-0266-4e4d-c9fe-131fd6c51d7e"
   },
   "outputs": [],
   "source": [
    "jovian.commit()"
   ]
  },
  {
   "cell_type": "markdown",
   "metadata": {
    "id": "Q0r8-A4aa4EN"
   },
   "source": [
    "## Summary and Further Reading\n",
    "\n",
    "We have covered the following topics in this tutorial: \n",
    "\n",
    "- Creating and customizing line charts using Matplotlib\n",
    "- Visualizing relationships between two or more variables using scatter plots\n",
    "- Studying distributions of variables using histograms & bar charts to \n",
    "- Visualizing two-dimensional data using heatmaps\n",
    "- Displaying images using Matplotlib's `plt.imshow`\n",
    "- Plotting multiple Matplotlib and Seaborn charts in a grid\n",
    "\n",
    "In this tutorial we've covered some of the fundamental concepts and popular techniques for data visualization using Matplotlib and Seaborn. Data visualization is a vast field and we've barely scratched the surface here. Check out these references to learn and discover more:\n",
    "\n",
    "* Data Visualization cheat sheet: https://jovian.ml/aakashns/dataviz-cheatsheet\n",
    "* Seaborn gallery: https://seaborn.pydata.org/examples/index.html\n",
    "* Matplotlib gallery: https://matplotlib.org/3.1.1/gallery/index.html\n",
    "* Matplotlib tutorial: https://github.com/rougier/matplotlib-tutorial\n",
    "\n",
    "You are now ready to move on to the next tutorial: [Exploratory Data Analysis - A Case Study](https://jovian.ai/aakashns/python-eda-stackoverflow-survey)\n"
   ]
  },
  {
   "cell_type": "markdown",
   "metadata": {
    "id": "7bVxY_JAa4EN"
   },
   "source": [
    "## Questions for Revision\n",
    "\n",
    "Try answering the following questions to test your understanding of the topics covered in this notebook:\n",
    "\n",
    "1. What is data visualization?\n",
    "2. What is Matplotlib?\n",
    "3. What is Seaborn?\n",
    "4. How do you install Matplotlib and Seaborn?\n",
    "5. How you import Matplotlib and Seaborn? What are the common aliases used while importing these modules?\n",
    "6. What is the purpose of the magic command `%matplotlib inline`?\n",
    "7. What is a line chart?\n",
    "8. How do you plot a line chart in Python? Illustrate with an example.\n",
    "9. How do you specify values for the X-axis of a line chart?\n",
    "10. How do you specify labels for the axes of a chart?\n",
    "11. How do you plot multiple line charts on the same axes?\n",
    "12. How do you show a legend for a line chart with multiple lines?\n",
    "13. How you set a title for a chart?\n",
    "14. How do you show markers on a line chart?\n",
    "15. What are the different options for styling lines & markers in line charts? Illustrate with examples?\n",
    "16. What is the purpose of the `fmt` argument to `plt.plot`?\n",
    "17. How do you markers without a line using `plt.plot`?\n",
    "18. Where can you see a list of all the arguments accepted by `plt.plot`?\n",
    "19. How do you change the size of the figure using Matplotlib?\n",
    "20. How do you apply the default styles from Seaborn globally for all charts?\n",
    "21. What are the predefined styles available in Seaborn? Illustrate with examples.\n",
    "22. What is a scatter plot?\n",
    "23. How is a scatter plot different from a line chart?\n",
    "24. How do you draw a scatter plot using Seaborn? Illustrate with an example.\n",
    "25. How do you decide when to use a scatter plot v.s. a line chart?\n",
    "26. How do you specify the colors for dots on a scatter plot using a categorical variable?\n",
    "27. How do you customize the title, figure size, legend, etc., for Seaborn plots?\n",
    "28. How do you use a Pandas dataframe with `sns.scatterplot`?\n",
    "29. What is a histogram?\n",
    "30. When should you use a histogram v.s. a line chart?\n",
    "31. How do you draw a histogram using Matplotlib? Illustrate with an example.\n",
    "32. What are \"bins\" in a histogram?\n",
    "33. How do you change the sizes of bins in a histogram?\n",
    "34. How do you change the number of bins in a histogram?\n",
    "35. How do you show multiple histograms on the same axes?\n",
    "36. How do you stack multiple histograms on top of one another?\n",
    "37. What is a bar chart?\n",
    "38. How do you draw a bar chart using Matplotlib? Illustrate with an example.\n",
    "39. What is the difference between a bar chart and a histogram?\n",
    "40. What is the difference between a bar chart and a line chart?\n",
    "41. How do you stack bars on top of one another?\n",
    "42. What is the difference between `plt.bar` and `sns.barplot`?\n",
    "43. What do the lines cutting the bars in a Seaborn bar plot represent?\n",
    "44. How do you show bar plots side-by-side?\n",
    "45. How do you draw a horizontal bar plot?\n",
    "46. What is a heat map?\n",
    "47. What type of data is best visualized with a heat map?\n",
    "48. What does the `pivot` method of a Pandas dataframe do?\n",
    "49. How do you draw a heat map using Seaborn? Illustrate with an example.\n",
    "50. How do you change the color scheme of a heat map?\n",
    "51. How do you show the original values from the dataset on a heat map?\n",
    "52. How do you download images from a URL in Python?\n",
    "53. How do you open an image for processing in Python?\n",
    "54. What is the purpose of the `PIL` module in Python?\n",
    "55. How do you convert an image loaded using PIL into a Numpy array?\n",
    "56. How many dimensions does a Numpy array for an image have? What does each dimension represent?\n",
    "57. What are \"color channels\" in an image?\n",
    "58. What is RGB?\n",
    "59. How do you display an image using Matplotlib?\n",
    "60. How do you turn off the axes and gridlines in a chart?\n",
    "61. How do you display a portion of an image using Matplotlib?\n",
    "62. How do you plot multiple charts in a grid using Matplotlib and Seaborn? Illustrate with examples.\n",
    "63. What is the purpose of the `plt.subplots` function?\n",
    "64. What are pair plots in Seaborn? Illustrate with an example.\n",
    "65. How do you export a plot into a PNG image file using Matplotlib?\n",
    "66. Where can you learn about the different types of charts you can create using Matplotlib and Seaborn?\n"
   ]
  },
  {
   "cell_type": "code",
   "execution_count": null,
   "metadata": {
    "id": "OpEtDmqia4EO"
   },
   "outputs": [],
   "source": []
  }
 ],
 "metadata": {
  "colab": {
   "provenance": []
  },
  "kernelspec": {
   "display_name": "Python 3 (ipykernel)",
   "language": "python",
   "name": "python3"
  },
  "language_info": {
   "codemirror_mode": {
    "name": "ipython",
    "version": 3
   },
   "file_extension": ".py",
   "mimetype": "text/x-python",
   "name": "python",
   "nbconvert_exporter": "python",
   "pygments_lexer": "ipython3",
   "version": "3.10.4"
  }
 },
 "nbformat": 4,
 "nbformat_minor": 4
}
