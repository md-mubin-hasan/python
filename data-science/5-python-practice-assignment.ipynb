{
 "cells": [
  {
   "cell_type": "markdown",
   "metadata": {
    "id": "0bSQ_5w7T3DF"
   },
   "source": [
    "# Assignment 1 - Python Basics Practice\n",
    "\n",
    "*This assignment is a part of the course [\"Data Analysis with Python: Zero to Pandas\"](https://jovian.ml/learn/data-analysis-with-python-zero-to-pandas)*\n",
    "\n",
    "In this assignment, you'll get to practice some of the concepts and skills covered in the following notebooks:\n",
    "\n",
    "1. [First Steps with Python and Jupyter](https://jovian.ml/aakashns/first-steps-with-python)\n",
    "2. [A Quick Tour of Variables and Data Types](https://jovian.ml/aakashns/python-variables-and-data-types)\n",
    "3. [Branching using Conditional Statements and Loops](https://jovian.ml/aakashns/python-branching-and-loops)\n",
    "\n",
    "\n",
    "As you go through this notebook, you will find the symbol **???** in certain places. To complete this assignment, you must replace all the **???** with appropriate values, expressions or statements to ensure that the notebook runs properly end-to-end. \n",
    "\n",
    "**Guidelines**\n",
    "\n",
    "1. Make sure to run all the code cells, otherwise you may get errors like `NameError` for undefined variables.\n",
    "2. Do not change variable names, delete cells or disturb other existing code. It may cause problems during evaluation.\n",
    "3. In some cases, you may need to add some code cells or new statements before or after the line of code containing the **???**. \n",
    "4. Since you'll be using a free online service for code execution, save your work by running `jovian.commit` at regular intervals.\n",
    "5. Questions marked **(Optional)** will not be considered for evaluation, and can be skipped. They are for your learning.\n",
    "6. If you are stuck, you can ask for help on the course forum. Post errors, ask for hints and help others, but **please don't share the full solution answer code** to give others a chance to write the code themselves.\n",
    "7. After submission your code will be tested with some hidden test cases. Make sure to test your code exhaustively to cover all edge cases.\n",
    "\n",
    "\n",
    "Important Links:\n",
    "\n",
    "* Make submissions here: https://jovian.ml/learn/data-analysis-with-python-zero-to-pandas/assignment/assignment-1-python-basics-practice\n",
    "\n",
    "* Get help on the community forum: https://jovian.ml/forum/t/assignment-1-python-practice/7761 . You can get help with errors or ask for hints, but **please don't ask for or share the full working answer code** on the forum.\n"
   ]
  },
  {
   "cell_type": "markdown",
   "metadata": {
    "id": "gzosHsGNT3DV"
   },
   "source": [
    "### How to Run the Code and Save Your Work\n",
    "\n",
    "**Option 1: Running using free online resources (1-click, recommended)**: Click the **Run** button at the top of this page and select **Run on Binder**. You can also select \"Run on Colab\" or \"Run on Kaggle\", but you'll need to create an account on [Google Colab](https://colab.research.google.com) or [Kaggle](https://kaggle.com) to use these platforms.\n",
    "\n",
    "\n",
    "**Option 2: Running on your computer locally**: To run the code on your computer locally, you'll need to set up [Python](https://www.python.org) & [Conda](https://docs.conda.io/projects/conda/en/latest/user-guide/install/), download the notebook and install the required libraries. Click the **Run** button at the top of this page, select the **Run Locally** option, and follow the instructions.\n",
    "\n",
    "**Saving your work**: You can save a snapshot of the assignment to your [Jovian](https://jovian.ai) profile, so that you can access it later and continue your work. Keep saving your work by running `jovian.commit` from time to time."
   ]
  },
  {
   "cell_type": "code",
   "execution_count": null,
   "metadata": {
    "id": "9Dmk5HsUT3Dc"
   },
   "outputs": [],
   "source": [
    "# Install the library\n",
    "!pip install jovian --upgrade --quiet"
   ]
  },
  {
   "cell_type": "code",
   "execution_count": null,
   "metadata": {
    "id": "dUgLRnJuT3De"
   },
   "outputs": [],
   "source": [
    "# Import it\n",
    "import jovian"
   ]
  },
  {
   "cell_type": "code",
   "execution_count": null,
   "metadata": {
    "id": "Mop10yDLT3Df"
   },
   "outputs": [],
   "source": [
    "project_name='python-practice-assignment'"
   ]
  },
  {
   "cell_type": "code",
   "execution_count": null,
   "metadata": {
    "id": "47bgdVJZT3Dg",
    "outputId": "759b8546-86de-4c2f-912c-7df297e0bcd5"
   },
   "outputs": [
    {
     "data": {
      "application/javascript": [
       "window.require && require([\"base/js/namespace\"],function(Jupyter){Jupyter.notebook.save_checkpoint()})"
      ],
      "text/plain": [
       "<IPython.core.display.Javascript object>"
      ]
     },
     "metadata": {},
     "output_type": "display_data"
    },
    {
     "name": "stdout",
     "output_type": "stream",
     "text": [
      "[jovian] Attempting to save notebook..\u001b[0m\n",
      "[jovian] Updating notebook \"aakashns/python-practice-assignment\" on https://jovian.ai/\u001b[0m\n",
      "[jovian] Uploading notebook..\u001b[0m\n",
      "[jovian] Capturing environment..\u001b[0m\n",
      "[jovian] Committed successfully! https://jovian.ai/aakashns/python-practice-assignment\u001b[0m\n"
     ]
    },
    {
     "data": {
      "text/plain": [
       "'https://jovian.ai/aakashns/python-practice-assignment'"
      ]
     },
     "execution_count": 4,
     "metadata": {},
     "output_type": "execute_result"
    }
   ],
   "source": [
    "# Capture and upload a snapshot\n",
    "jovian.commit(project=project_name, privacy='secret', evironment=None)"
   ]
  },
  {
   "cell_type": "markdown",
   "metadata": {
    "id": "5MBb4oFGT3Di"
   },
   "source": [
    "You'll be asked to provide an API Key, to securely upload the notebook to your Jovian.ml account. You can get the API key from your Jovian.ml profile page after logging in / signing up. See the docs for details: https://jovian.ml/docs/user-guide/upload.html . The privacy of your assignment notebook is set to *Secret*, so that you can the evlauators can access it, but it will not shown on your public profile to other users."
   ]
  },
  {
   "cell_type": "markdown",
   "metadata": {
    "id": "vTDS7DiqT3Dk"
   },
   "source": [
    "## Problem 1 - Variables and Data Types\n",
    "\n",
    "**Q1: Assign your name to the variable `name`.**"
   ]
  },
  {
   "cell_type": "code",
   "execution_count": null,
   "metadata": {
    "id": "WvvmRhv2T3Dl"
   },
   "outputs": [],
   "source": [
    "name = ???"
   ]
  },
  {
   "cell_type": "markdown",
   "metadata": {
    "id": "RAURMGO1T3Dn"
   },
   "source": [
    "**Q2: Assign your age (real or fake) to the variable `age`.**"
   ]
  },
  {
   "cell_type": "code",
   "execution_count": null,
   "metadata": {
    "id": "iIa-i1YzT3Do"
   },
   "outputs": [],
   "source": [
    "age = ???"
   ]
  },
  {
   "cell_type": "markdown",
   "metadata": {
    "id": "xj1oDanGT3Dp"
   },
   "source": [
    "**Q3: Assign a boolean value to the variable `has_android_phone`.**"
   ]
  },
  {
   "cell_type": "code",
   "execution_count": null,
   "metadata": {
    "id": "FmZARnj7T3Dq"
   },
   "outputs": [],
   "source": [
    "has_android_phone = ???"
   ]
  },
  {
   "cell_type": "markdown",
   "metadata": {
    "id": "XHQlJp5vT3Dq"
   },
   "source": [
    "You can check the values of these variables by running the next cell."
   ]
  },
  {
   "cell_type": "code",
   "execution_count": null,
   "metadata": {
    "id": "43lMvCb_T3Dr"
   },
   "outputs": [],
   "source": [
    "name, age, has_android_phone"
   ]
  },
  {
   "cell_type": "markdown",
   "metadata": {
    "id": "p1AH9oHJT3Dr"
   },
   "source": [
    "**Q4: Create a dictionary `person` with keys `\"Name\"`, `\"Age\"`, `\"HasAndroidPhone\"` and values using the variables defined above.**"
   ]
  },
  {
   "cell_type": "code",
   "execution_count": null,
   "metadata": {
    "id": "0Gt-MvLLT3Ds"
   },
   "outputs": [],
   "source": [
    "person = ???"
   ]
  },
  {
   "cell_type": "markdown",
   "metadata": {
    "id": "QoPhRZPqT3Ds"
   },
   "source": [
    "Let's use the `person` dictionary to print a nice message."
   ]
  },
  {
   "cell_type": "code",
   "execution_count": null,
   "metadata": {
    "id": "5_X7I6mRT3Dt"
   },
   "outputs": [],
   "source": [
    "print(\"{} is aged {}, and owns an {}.\".format(\n",
    "    person[\"Name\"], \n",
    "    person[\"Age\"], \n",
    "    \"Android phone\" if person[\"HasAndroidPhone\"] else \"iPhone\"\n",
    "))"
   ]
  },
  {
   "cell_type": "markdown",
   "metadata": {
    "id": "r0UHPlHcT3Dt"
   },
   "source": [
    "**Q4b (Optional): Use a `for` loop to display the `type` of each value stored against each key in `person`.**\n",
    "\n",
    "Here's the expected output for the key `\"Name\"`: \n",
    "\n",
    "```\n",
    "The key \"Name\" has the value \"Derek\" of the type \"<class 'str'>\"\n",
    "```"
   ]
  },
  {
   "cell_type": "code",
   "execution_count": null,
   "metadata": {
    "id": "oQM-0errT3Du"
   },
   "outputs": [],
   "source": [
    "# this is optional\n",
    "???"
   ]
  },
  {
   "cell_type": "markdown",
   "metadata": {
    "id": "aJZHyNQ2T3Dv"
   },
   "source": [
    "Now that you've solved one problem, it would be a good idea to record a snapshot of your notebook."
   ]
  },
  {
   "cell_type": "code",
   "execution_count": null,
   "metadata": {
    "id": "buKuxH89T3Dv"
   },
   "outputs": [],
   "source": [
    "jovian.commit(project=project_name,environment=None)"
   ]
  },
  {
   "cell_type": "markdown",
   "metadata": {
    "id": "G-c9GCAkT3Dw"
   },
   "source": [
    "## Problem 2 - Working with Lists\n",
    "\n",
    "**Q5: Create a list containing the following 3 elements:**\n",
    "\n",
    "* your favorite color\n",
    "* the number of pets you have\n",
    "* a boolean value describing whether you have previous programming experience\n"
   ]
  },
  {
   "cell_type": "code",
   "execution_count": null,
   "metadata": {
    "id": "MBwciPYcT3Dw"
   },
   "outputs": [],
   "source": [
    "my_list = ???"
   ]
  },
  {
   "cell_type": "markdown",
   "metadata": {
    "id": "M5F1NviKT3Dx"
   },
   "source": [
    "Let's see what the list looks like:"
   ]
  },
  {
   "cell_type": "code",
   "execution_count": null,
   "metadata": {
    "id": "THV1e_44T3Dx"
   },
   "outputs": [],
   "source": [
    "my_list"
   ]
  },
  {
   "cell_type": "markdown",
   "metadata": {
    "id": "C1-6X70FT3Dx"
   },
   "source": [
    "**Q6: Complete the following `print` and `if` statements by accessing the appropriate elements from `my_list`.**\n",
    "\n",
    "*Hint*: Use the list indexing notation `[]`."
   ]
  },
  {
   "cell_type": "code",
   "execution_count": null,
   "metadata": {
    "id": "Bio8uYX7T3Dx"
   },
   "outputs": [],
   "source": [
    "print('My favorite color is', ???)"
   ]
  },
  {
   "cell_type": "code",
   "execution_count": null,
   "metadata": {
    "id": "-7WV2acQT3Dy"
   },
   "outputs": [],
   "source": [
    "print('I have {} pet(s).'.format(???))"
   ]
  },
  {
   "cell_type": "code",
   "execution_count": null,
   "metadata": {
    "id": "jUQ7kvFRT3Dy"
   },
   "outputs": [],
   "source": [
    "if ???:\n",
    "    print(\"I have previous programming experience\")\n",
    "else:\n",
    "    print(\"I do not have previous programming experience\")"
   ]
  },
  {
   "cell_type": "markdown",
   "metadata": {
    "id": "8cRpKt18T3Dy"
   },
   "source": [
    "**Q7: Add your favorite single digit number to the end of the list using the appropriate list method.**"
   ]
  },
  {
   "cell_type": "code",
   "execution_count": null,
   "metadata": {
    "id": "Sv5F_6t3T3Dy"
   },
   "outputs": [],
   "source": [
    "my_list.???"
   ]
  },
  {
   "cell_type": "markdown",
   "metadata": {
    "id": "jLAIUCvHT3Dz"
   },
   "source": [
    "Let's see if the number shows up in the list."
   ]
  },
  {
   "cell_type": "code",
   "execution_count": null,
   "metadata": {
    "id": "3lW5edVKT3Dz"
   },
   "outputs": [],
   "source": [
    "my_list"
   ]
  },
  {
   "cell_type": "markdown",
   "metadata": {
    "id": "QyXOmcbBT3Dz"
   },
   "source": [
    "**Q8: Remove the first element of the list, using the appropriate list method.**\n",
    "\n",
    "*Hint*: Check out methods of list here: https://www.w3schools.com/python/python_ref_list.asp"
   ]
  },
  {
   "cell_type": "code",
   "execution_count": null,
   "metadata": {
    "id": "aNma_UNGT3D0"
   },
   "outputs": [],
   "source": [
    "my_list.???"
   ]
  },
  {
   "cell_type": "code",
   "execution_count": null,
   "metadata": {
    "id": "WX31g4OgT3D0"
   },
   "outputs": [],
   "source": [
    "my_list"
   ]
  },
  {
   "cell_type": "markdown",
   "metadata": {
    "id": "44OJ9-K0T3D0"
   },
   "source": [
    "**Q9: Complete the `print` statement below to display the number of elements in `my_list`.**"
   ]
  },
  {
   "cell_type": "code",
   "execution_count": null,
   "metadata": {
    "id": "cVAmWDRgT3D1"
   },
   "outputs": [],
   "source": [
    "print(\"The list has {} elements.\".format(???))"
   ]
  },
  {
   "cell_type": "markdown",
   "metadata": {
    "id": "jJYU0WjfT3D1"
   },
   "source": [
    "Well done, you're making good progress! Save your work before continuing"
   ]
  },
  {
   "cell_type": "code",
   "execution_count": null,
   "metadata": {
    "id": "AcrYvkRtT3D1"
   },
   "outputs": [],
   "source": [
    "jovian.commit(project=project_name,environment=None)"
   ]
  },
  {
   "cell_type": "markdown",
   "metadata": {
    "id": "eL1XsqniT3D1"
   },
   "source": [
    "## Problem 3 - Conditions and loops\n",
    "\n",
    "**Q10: Calculate and display the sum of all the numbers divisible by 7 between 18 and 534 i.e. `21+28+35+...+525+532`**.\n",
    "\n",
    "*Hint*: One way to do this is to loop over a `range` using `for` and use an `if` statement inside it."
   ]
  },
  {
   "cell_type": "code",
   "execution_count": null,
   "metadata": {
    "id": "sMO-Bz6MT3D2"
   },
   "outputs": [],
   "source": [
    "# store the final answer in this variable\n",
    "sum_of_numbers = 0\n",
    "\n",
    "# perform the calculation here\n",
    "???"
   ]
  },
  {
   "cell_type": "code",
   "execution_count": null,
   "metadata": {
    "id": "2rWGC47BT3D3"
   },
   "outputs": [],
   "source": [
    "print('The sum of all the numbers divisible by 7 between 18 and 534 is', sum_of_numbers)"
   ]
  },
  {
   "cell_type": "markdown",
   "metadata": {
    "id": "WGa_UfQxT3D3"
   },
   "source": [
    "If you are not able to figure out the solution to this problem, you can ask for hints on the community forum: https://jovian.ml/forum/t/assignment-1-python-practice/7761 . Remember to save your work before moving forward."
   ]
  },
  {
   "cell_type": "code",
   "execution_count": null,
   "metadata": {
    "id": "NddiM6gUT3D4"
   },
   "outputs": [],
   "source": [
    "jovian.commit(project=project_name,environment=None)"
   ]
  },
  {
   "cell_type": "markdown",
   "metadata": {
    "id": "D42SLYx6T3D4"
   },
   "source": [
    "## Problem 4 - Flying to the Bahamas\n",
    "\n",
    "**Q11: A travel company wants to fly a plane to the Bahamas. Flying the plane costs 5000 dollars. So far, 29 people have signed up for the trip. If the company charges 200 dollars per ticket, what is the profit made by the company?**\n",
    "\n",
    "Fill in values or arithmetic expressions for the variables below."
   ]
  },
  {
   "cell_type": "code",
   "execution_count": null,
   "metadata": {
    "id": "vW5oglEWT3D4"
   },
   "outputs": [],
   "source": [
    "cost_of_flying_plane = ???"
   ]
  },
  {
   "cell_type": "code",
   "execution_count": null,
   "metadata": {
    "id": "C4tNGc-JT3D4"
   },
   "outputs": [],
   "source": [
    "number_of_passengers = ???"
   ]
  },
  {
   "cell_type": "code",
   "execution_count": null,
   "metadata": {
    "id": "z7jQ3hV_T3D5"
   },
   "outputs": [],
   "source": [
    "price_of_ticket = ???"
   ]
  },
  {
   "cell_type": "code",
   "execution_count": null,
   "metadata": {
    "id": "0m_yik5zT3D5"
   },
   "outputs": [],
   "source": [
    "profit = ???"
   ]
  },
  {
   "cell_type": "code",
   "execution_count": null,
   "metadata": {
    "id": "fyk--5O5T3D5"
   },
   "outputs": [],
   "source": [
    "print('The company makes of a profit of {} dollars'.format(profit))"
   ]
  },
  {
   "cell_type": "markdown",
   "metadata": {
    "id": "G4PLcowmT3D5"
   },
   "source": [
    "**Q11b (Optional): Out of the 29 people who took the flight, only 12 buy tickets to return from the Bahamas on the same plane. If the flying the plane back also costs 5000 dollars, and does the company make an overall profit or loss? The company charges the same fee of 200 dollars per ticket for the return flight.**\n",
    "\n",
    "Use an `if` statement to display the result."
   ]
  },
  {
   "cell_type": "code",
   "execution_count": null,
   "metadata": {
    "id": "0hfK5VFqT3D6"
   },
   "outputs": [],
   "source": [
    "# this is optional\n",
    "???"
   ]
  },
  {
   "cell_type": "code",
   "execution_count": null,
   "metadata": {
    "id": "6l2qSp7XT3D6"
   },
   "outputs": [],
   "source": [
    "# this is optional\n",
    "if ???:\n",
    "    print(\"The company makes an overall profit of {} dollars\".format(???))\n",
    "else:\n",
    "    print(\"The company makes an overall loss of {} dollars\".format(???))"
   ]
  },
  {
   "cell_type": "markdown",
   "metadata": {
    "id": "E_KxGQ8HT3D6"
   },
   "source": [
    "Great work so far! Want to take a break? Remember to save and upload your notebook to record your progress."
   ]
  },
  {
   "cell_type": "code",
   "execution_count": null,
   "metadata": {
    "id": "l6eSM9jZT3D7"
   },
   "outputs": [],
   "source": [
    "jovian.commit(project=project_name,environment=None)"
   ]
  },
  {
   "cell_type": "markdown",
   "metadata": {
    "id": "EttW6fTFT3D7"
   },
   "source": [
    "## Problem 5 - Twitter Sentiment Analysis\n",
    "\n",
    "Are your ready to perform some *Data Analysis with Python*? In this problem, we'll analyze some fictional tweets and find out whether the overall sentiment of Twitter users is happy or sad. This is a simplified version of an important real world problem called *sentiment analysis*.\n",
    "\n",
    "Before we begin, we need a list of tweets to analyze. We're picking a small number of tweets here, but the exact same analysis can also be done for thousands, or even millions of tweets. The collection of data that we perform analysis on is often called a *dataset*."
   ]
  },
  {
   "cell_type": "code",
   "execution_count": null,
   "metadata": {
    "id": "h3PQE6ktT3D7"
   },
   "outputs": [],
   "source": [
    "tweets = [\n",
    "    \"Wow, what a great day today!! #sunshine\",\n",
    "    \"I feel sad about the things going on around us. #covid19\",\n",
    "    \"I'm really excited to learn Python with @JovianML #zerotopandas\",\n",
    "    \"This is a really nice song. #linkinpark\",\n",
    "    \"The python programming language is useful for data science\",\n",
    "    \"Why do bad things happen to me?\",\n",
    "    \"Apple announces the release of the new iPhone 12. Fans are excited.\",\n",
    "    \"Spent my day with family!! #happy\",\n",
    "    \"Check out my blog post on common string operations in Python. #zerotopandas\",\n",
    "    \"Freecodecamp has great coding tutorials. #skillup\"\n",
    "]"
   ]
  },
  {
   "cell_type": "markdown",
   "metadata": {
    "id": "rQMOL2vvT3D8"
   },
   "source": [
    "Let's begin by answering a very simple but important question about our dataset.\n",
    "\n",
    "**Q12: How many tweets does the dataset contain?**"
   ]
  },
  {
   "cell_type": "code",
   "execution_count": null,
   "metadata": {
    "id": "2U9yC6KlT3D8"
   },
   "outputs": [],
   "source": [
    "number_of_tweets = ???"
   ]
  },
  {
   "cell_type": "markdown",
   "metadata": {
    "id": "a01_vYNrT3D8"
   },
   "source": [
    "Let's create two lists of words: `happy_words` and `sad_words`. We will use these to check if a tweet is happy or sad."
   ]
  },
  {
   "cell_type": "code",
   "execution_count": null,
   "metadata": {
    "id": "jfYmdjlyT3D8"
   },
   "outputs": [],
   "source": [
    "happy_words = ['great', 'excited', 'happy', 'nice', 'wonderful', 'amazing', 'good', 'best']"
   ]
  },
  {
   "cell_type": "code",
   "execution_count": null,
   "metadata": {
    "id": "9Z3OVgruT3D9"
   },
   "outputs": [],
   "source": [
    "sad_words = ['sad', 'bad', 'tragic', 'unhappy', 'worst']"
   ]
  },
  {
   "cell_type": "markdown",
   "metadata": {
    "id": "STWLMz_RT3D9"
   },
   "source": [
    "To identify whether a tweet is happy, we can simply check if contains any of the words from `happy_words`. Here's an example:"
   ]
  },
  {
   "cell_type": "code",
   "execution_count": null,
   "metadata": {
    "id": "txKjHh45T3D-"
   },
   "outputs": [],
   "source": [
    "sample_tweet = tweets[0]"
   ]
  },
  {
   "cell_type": "code",
   "execution_count": null,
   "metadata": {
    "id": "W_TUIe1ST3D-"
   },
   "outputs": [],
   "source": [
    "sample_tweet"
   ]
  },
  {
   "cell_type": "code",
   "execution_count": null,
   "metadata": {
    "id": "8yt7O3PBT3D-"
   },
   "outputs": [],
   "source": [
    "is_tweet_happy = False\n",
    "\n",
    "# Get a word from happy_words\n",
    "for word in happy_words:\n",
    "    # Check if the tweet contains the word\n",
    "    if word in sample_tweet:\n",
    "        # Word found! Mark the tweet as happy\n",
    "        is_tweet_happy = True"
   ]
  },
  {
   "cell_type": "markdown",
   "metadata": {
    "id": "hViO0moET3EA"
   },
   "source": [
    "Do you understand what we're doing above? \n",
    "\n",
    "> For each word in the list of happy words, we check if is a part of the selected tweet. If the word is indded a part of the tweet, we set the variable `is_tweet_happy` to `True`. "
   ]
  },
  {
   "cell_type": "code",
   "execution_count": null,
   "metadata": {
    "id": "JlMFSL4kT3EB"
   },
   "outputs": [],
   "source": [
    "is_tweet_happy"
   ]
  },
  {
   "cell_type": "markdown",
   "metadata": {
    "id": "VWfdP1GHT3EB"
   },
   "source": [
    "**Q13: Determine the number of tweets in the dataset that can be classified as happy.**\n",
    "\n",
    "*Hint*: You'll need to use a loop inside another loop to do this. Use the code from the example shown above."
   ]
  },
  {
   "cell_type": "code",
   "execution_count": null,
   "metadata": {
    "id": "W8maUjgET3EC"
   },
   "outputs": [],
   "source": [
    "# store the final answer in this variable\n",
    "number_of_happy_tweets = 0\n",
    "\n",
    "# perform the calculations here\n",
    "???"
   ]
  },
  {
   "cell_type": "code",
   "execution_count": null,
   "metadata": {
    "id": "rux5EdvDT3EC"
   },
   "outputs": [],
   "source": [
    "print(\"Number of happy tweets:\", number_of_happy_tweets)"
   ]
  },
  {
   "cell_type": "markdown",
   "metadata": {
    "id": "jDTp-_qRT3EC"
   },
   "source": [
    "If you are not able to figure out the solution to this problem, you can ask for hints on the community forum: https://jovian.ml/forum/t/assignment-1-python-practice/7761 . Also try adding `print` statements inside your loops to inspect variables and make sure your logic is correct."
   ]
  },
  {
   "cell_type": "markdown",
   "metadata": {
    "id": "c_aiGHbFT3EC"
   },
   "source": [
    "**Q14: What fraction of the total number of tweets are happy?**\n",
    "\n",
    "For example, if 2 out of 10 tweets are happy, then the answer is `2/10` i.e. `0.2`."
   ]
  },
  {
   "cell_type": "code",
   "execution_count": null,
   "metadata": {
    "id": "_Vo6mthST3ED"
   },
   "outputs": [],
   "source": [
    "happy_fraction = ???"
   ]
  },
  {
   "cell_type": "code",
   "execution_count": null,
   "metadata": {
    "id": "lopnwafsT3ED"
   },
   "outputs": [],
   "source": [
    "print(\"The fraction of happy tweets is:\", happy_fraction)"
   ]
  },
  {
   "cell_type": "markdown",
   "metadata": {
    "id": "iznY_SE_T3ED"
   },
   "source": [
    "To identify whether a tweet is sad, we can simply check if contains any of the words from `sad_words`.\n",
    "\n",
    "**Q15: Determine the number of tweets in the dataset that can be classified as sad.**"
   ]
  },
  {
   "cell_type": "code",
   "execution_count": null,
   "metadata": {
    "id": "QhvcpbroT3ED"
   },
   "outputs": [],
   "source": [
    "# store the final answer in this variable\n",
    "number_of_sad_tweets = 0\n",
    "\n",
    "# perform the calculations here\n",
    "???"
   ]
  },
  {
   "cell_type": "code",
   "execution_count": null,
   "metadata": {
    "id": "FUBNL1ePT3ED"
   },
   "outputs": [],
   "source": [
    "print(\"Number of sad tweets:\", number_of_sad_tweets)"
   ]
  },
  {
   "cell_type": "markdown",
   "metadata": {
    "id": "nGIHy3WqT3EE"
   },
   "source": [
    "**Q16: What fraction of the total number of tweets are sad?**"
   ]
  },
  {
   "cell_type": "code",
   "execution_count": null,
   "metadata": {
    "id": "-m67sRVAT3EE"
   },
   "outputs": [],
   "source": [
    "sad_fraction = ???"
   ]
  },
  {
   "cell_type": "code",
   "execution_count": null,
   "metadata": {
    "id": "DmQUM6W1T3EE"
   },
   "outputs": [],
   "source": [
    "print(\"The fraction of sad tweets is:\", sad_fraction)"
   ]
  },
  {
   "cell_type": "markdown",
   "metadata": {
    "id": "c9BCApDDT3EE"
   },
   "source": [
    "The rest of this problem is optional. Let's save your work before continuing."
   ]
  },
  {
   "cell_type": "code",
   "execution_count": null,
   "metadata": {
    "id": "Nkck8BonT3EF"
   },
   "outputs": [],
   "source": [
    "jovian.commit(project=project_name,environment=None)"
   ]
  },
  {
   "cell_type": "markdown",
   "metadata": {
    "id": "83I1hkWGT3EF"
   },
   "source": [
    "Great work, even with some basic analysis, we already know a lot about the sentiment of the tweets given to us. Let us now define a metric called \"sentiment score\", to summarize the overall sentiment of the tweets.\n",
    "\n",
    "**Q16b (Optional): Calculate the sentiment score, which is defined as the difference betweek the fraction of happy tweets and the fraction of sad tweets.**"
   ]
  },
  {
   "cell_type": "code",
   "execution_count": null,
   "metadata": {
    "id": "CrynzxEVT3EF"
   },
   "outputs": [],
   "source": [
    "sentiment_score = ???"
   ]
  },
  {
   "cell_type": "code",
   "execution_count": null,
   "metadata": {
    "id": "esolnWyAT3EF"
   },
   "outputs": [],
   "source": [
    "print(\"The sentiment score for the given tweets is\", sentiment_score)"
   ]
  },
  {
   "cell_type": "markdown",
   "metadata": {
    "id": "yjdZ6URsT3EF"
   },
   "source": [
    "In a real world scenario, we could calculate & record the sentiment score for all the tweets sent out every day. This information can be used to plot a graph and study the trends in the changing sentiment of the world. The following graph was creating using the Python data visualization library `matplotlib`, which we'll cover later in the course.\n",
    "\n",
    "<img src=\"https://i.imgur.com/6CCIwCb.png\" style=\"width:400px\">\n",
    "\n",
    "What does the sentiment score represent? Based on the value of the sentiment score, can you identify if the overall sentiment of the dataset is happy or sad?\n",
    "\n",
    "**Q16c (Optional): Display whether the overall sentiment of the given dataset of tweets is happy or sad, using the sentiment score.**"
   ]
  },
  {
   "cell_type": "code",
   "execution_count": null,
   "metadata": {
    "id": "kRaOK1GVT3EG"
   },
   "outputs": [],
   "source": [
    "if ???:\n",
    "    print(\"The overall sentiment is happy\")\n",
    "else:\n",
    "    print(\"The overall sentiment is sad\")"
   ]
  },
  {
   "cell_type": "markdown",
   "metadata": {
    "id": "4dY5BSh-T3EG"
   },
   "source": [
    "Finally, it's also important to track how many tweets are neutral i.e. neither happy nor sad. If a large fraction of tweets are marked neutral, maybe we need to improve our lists of happy and sad words. \n",
    "\n",
    "**Q16d (Optional): What is the fraction of tweets that are neutral i.e. neither happy nor sad.**"
   ]
  },
  {
   "cell_type": "code",
   "execution_count": null,
   "metadata": {
    "id": "AgKJ-zQwT3EK"
   },
   "outputs": [],
   "source": [
    "# store the final answer in this variable\n",
    "number_of_neutral_tweets = 0\n",
    "\n",
    "# perform the calculation here\n",
    "???"
   ]
  },
  {
   "cell_type": "code",
   "execution_count": null,
   "metadata": {
    "id": "NBsImvkET3EK"
   },
   "outputs": [],
   "source": [
    "neutral_fraction = ???"
   ]
  },
  {
   "cell_type": "code",
   "execution_count": null,
   "metadata": {
    "id": "l2xjgSVeT3EL"
   },
   "outputs": [],
   "source": [
    "print('The fraction of neutral tweets is', neutral_fraction)"
   ]
  },
  {
   "cell_type": "markdown",
   "metadata": {
    "id": "bKPXFU6DT3EL"
   },
   "source": [
    "Ponder upon these questions and try some experiments to hone your skills further:\n",
    "\n",
    "* What are the limitations of our approach? When will it go wrong or give incorrect results?\n",
    "* How can we improve our approach to address the limitations?\n",
    "* What are some other questions you would like to ask, given a list of tweets?\n",
    "* Try collecting some real tweets from your Twitter timeline and repeat this analysis. Do the results make sense?\n",
    "\n",
    "**IMPORTANT NOTE**: If you want to try out these experiments, please create a new notebook using the \"New Notebook\" button on your Jovian.ml profile, to avoid making unintended changes to your assignment submission notebook."
   ]
  },
  {
   "cell_type": "markdown",
   "metadata": {
    "id": "Na-LxtA3T3EM"
   },
   "source": [
    "## Submission \n",
    "\n",
    "Congratulations on making it this far! You've reached the end of this assignment, and you just completed your first data analysis problem. It's time to record one final version of your notebook for submission.\n",
    "\n",
    "Make a submission here by filling the submission form: https://jovian.ml/learn/data-analysis-with-python-zero-to-pandas/assignment/assignment-1-python-basics-practice"
   ]
  },
  {
   "cell_type": "code",
   "execution_count": null,
   "metadata": {
    "id": "pSG7UTtOT3EM"
   },
   "outputs": [],
   "source": [
    "jovian.commit(project=project_name,environment=None)"
   ]
  }
 ],
 "metadata": {
  "colab": {
   "provenance": []
  },
  "kernelspec": {
   "display_name": "Python 3 (ipykernel)",
   "language": "python",
   "name": "python3"
  },
  "language_info": {
   "codemirror_mode": {
    "name": "ipython",
    "version": 3
   },
   "file_extension": ".py",
   "mimetype": "text/x-python",
   "name": "python",
   "nbconvert_exporter": "python",
   "pygments_lexer": "ipython3",
   "version": "3.10.4"
  }
 },
 "nbformat": 4,
 "nbformat_minor": 4
}
