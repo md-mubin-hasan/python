{
 "cells": [
  {
   "cell_type": "markdown",
   "metadata": {
    "id": "-ju9PFAmZdl4"
   },
   "source": [
    "# Analyzing Tabular Data using Python and Pandas\n",
    "\n",
    "![](https://i.imgur.com/zfxLzEv.png)\n",
    "\n",
    "\n",
    "This tutorial series is a beginner-friendly introduction to programming and data analysis using the Python programming language. These tutorials take a practical and coding-focused approach. The best way to learn the material is to execute the code and experiment with it yourself. "
   ]
  },
  {
   "cell_type": "markdown",
   "metadata": {
    "id": "vL6JkOWrZdmA"
   },
   "source": [
    "This tutorial covers the following topics:\n",
    "\n",
    "- Reading a CSV file into a Pandas data frame\n",
    "- Retrieving data from Pandas data frames\n",
    "- Querying, sorting, and analyzing data\n",
    "- Merging, grouping, and aggregation of data\n",
    "- Extracting useful information from dates\n",
    "- Basic plotting using line and bar charts\n",
    "- Writing data frames to CSV files"
   ]
  },
  {
   "cell_type": "markdown",
   "metadata": {
    "id": "JnMyDFRsZdmB"
   },
   "source": [
    "### How to run the code\n",
    "\n",
    "This tutorial is an executable [Jupyter notebook](https://jupyter.org) hosted on [Jovian](https://www.jovian.ai). You can _run_ this tutorial and experiment with the code examples in a couple of ways: *using free online resources* (recommended) or *on your computer*.\n",
    "\n",
    "#### Option 1: Running using free online resources (1-click, recommended)\n",
    "\n",
    "The easiest way to start executing the code is to click the **Run** button at the top of this page and select **Run on Binder**. You can also select \"Run on Colab\" or \"Run on Kaggle\", but you'll need to create an account on [Google Colab](https://colab.research.google.com) or [Kaggle](https://kaggle.com) to use these platforms.\n",
    "\n",
    "\n",
    "#### Option 2: Running on your computer locally\n",
    "\n",
    "To run the code on your computer locally, you'll need to set up [Python](https://www.python.org), download the notebook and install the required libraries. We recommend using the [Conda](https://docs.conda.io/projects/conda/en/latest/user-guide/install/) distribution of Python. Click the **Run** button at the top of this page, select the **Run Locally** option, and follow the instructions.\n",
    "\n",
    ">  **Jupyter Notebooks**: This tutorial is a [Jupyter notebook](https://jupyter.org) - a document made of _cells_. Each cell can contain code written in Python or explanations in plain English. You can execute code cells and view the results, e.g., numbers, messages, graphs, tables, files, etc., instantly within the notebook. Jupyter is a powerful platform for experimentation and analysis. Don't be afraid to mess around with the code & break things - you'll learn a lot by encountering and fixing errors. You can use the \"Kernel > Restart & Clear Output\" menu option to clear all outputs and start again from the top."
   ]
  },
  {
   "cell_type": "markdown",
   "metadata": {
    "id": "brnbFNF4ZdmB"
   },
   "source": [
    "## Reading a CSV file using Pandas\n",
    "\n",
    "[Pandas](https://pandas.pydata.org/) is a popular Python library used for working in tabular data (similar to the data stored in a spreadsheet). Pandas provides helper functions to read data from various file formats like CSV, Excel spreadsheets, HTML tables, JSON, SQL, and more. Let's download a file `italy-covid-daywise.txt` which contains day-wise Covid-19 data for Italy in the following format:\n",
    "\n",
    "```\n",
    "date,new_cases,new_deaths,new_tests\n",
    "2020-04-21,2256.0,454.0,28095.0\n",
    "2020-04-22,2729.0,534.0,44248.0\n",
    "2020-04-23,3370.0,437.0,37083.0\n",
    "2020-04-24,2646.0,464.0,95273.0\n",
    "2020-04-25,3021.0,420.0,38676.0\n",
    "2020-04-26,2357.0,415.0,24113.0\n",
    "2020-04-27,2324.0,260.0,26678.0\n",
    "2020-04-28,1739.0,333.0,37554.0\n",
    "...\n",
    "```\n",
    "\n",
    "This format of storing data is known as *comma-separated values* or CSV. \n",
    "\n",
    "> **CSVs**: A comma-separated values (CSV) file is a delimited text file that uses a comma to separate values. Each line of the file is a data record. Each record consists of one or more fields, separated by commas. A CSV file typically stores tabular data (numbers and text) in plain text, in which case each line will have the same number of fields. (Wikipedia)\n",
    "\n",
    "\n",
    "We'll download this file using the `urlretrieve` function from the `urllib.request` module."
   ]
  },
  {
   "cell_type": "code",
   "execution_count": null,
   "metadata": {
    "id": "5esrPgc8ZdmC"
   },
   "outputs": [],
   "source": [
    "from urllib.request import urlretrieve"
   ]
  },
  {
   "cell_type": "code",
   "execution_count": null,
   "metadata": {
    "id": "JwXEtz_4ZdmD",
    "outputId": "e0503320-b83e-49b9-98dc-44d1e8d273b1"
   },
   "outputs": [],
   "source": [
    "italy_covid_url = 'https://gist.githubusercontent.com/aakashns/f6a004fa20c84fec53262f9a8bfee775/raw/f309558b1cf5103424cef58e2ecb8704dcd4d74c/italy-covid-daywise.csv'\n",
    "\n",
    "urlretrieve(italy_covid_url, 'italy-covid-daywise.csv')"
   ]
  },
  {
   "cell_type": "markdown",
   "metadata": {
    "id": "41bQ9joCZdmD"
   },
   "source": [
    "To read the file, we can use the `read_csv` method from Pandas. First, let's install the Pandas library."
   ]
  },
  {
   "cell_type": "code",
   "execution_count": null,
   "metadata": {
    "id": "zvYrTlFUZdmE"
   },
   "outputs": [],
   "source": [
    "!pip install pandas --upgrade --quiet"
   ]
  },
  {
   "cell_type": "markdown",
   "metadata": {
    "id": "HQFLziAwZdmE"
   },
   "source": [
    "We can now import the `pandas` module. As a convention, it is imported with the alias `pd`."
   ]
  },
  {
   "cell_type": "code",
   "execution_count": null,
   "metadata": {
    "id": "Ri3yCqOfZdmF"
   },
   "outputs": [],
   "source": [
    "import pandas as pd"
   ]
  },
  {
   "cell_type": "code",
   "execution_count": null,
   "metadata": {
    "id": "z4QDTShrZdmF"
   },
   "outputs": [],
   "source": [
    "covid_df = pd.read_csv('italy-covid-daywise.csv')"
   ]
  },
  {
   "cell_type": "markdown",
   "metadata": {
    "id": "fzzLV7aIZdmF"
   },
   "source": [
    "Data from the file is read and stored in a `DataFrame` object - one of the core data structures in Pandas for storing and working with tabular data. We typically use the `_df` suffix in the variable names for dataframes."
   ]
  },
  {
   "cell_type": "code",
   "execution_count": null,
   "metadata": {
    "id": "AZC59HjIZdmF",
    "outputId": "5e32fa2e-c345-4574-a483-026fa63ceb95"
   },
   "outputs": [],
   "source": [
    "type(covid_df)"
   ]
  },
  {
   "cell_type": "code",
   "execution_count": null,
   "metadata": {
    "id": "qLlT8UdlZdmG",
    "outputId": "21a8fb4a-c071-4a64-b2e7-46e3bc992fd9"
   },
   "outputs": [],
   "source": [
    "covid_df"
   ]
  },
  {
   "cell_type": "markdown",
   "metadata": {
    "id": "2141dWCtZdmG"
   },
   "source": [
    "Here's what we can tell by looking at the dataframe:\n",
    "\n",
    "- The file provides four day-wise counts for COVID-19 in Italy\n",
    "- The metrics reported are new cases, deaths, and tests\n",
    "- Data is provided for 248 days: from Dec 12, 2019, to Sep 3, 2020\n",
    "\n",
    "Keep in mind that these are officially reported numbers. The actual number of cases & deaths may be higher, as not all cases are diagnosed. \n",
    "\n",
    "We can view some basic information about the data frame using the `.info` method."
   ]
  },
  {
   "cell_type": "code",
   "execution_count": null,
   "metadata": {
    "id": "sqvdxjC8ZdmG",
    "outputId": "618b11c7-c5e8-4297-9355-0e179afab646"
   },
   "outputs": [],
   "source": [
    "covid_df.info()"
   ]
  },
  {
   "cell_type": "markdown",
   "metadata": {
    "id": "zelqckdvZdmH"
   },
   "source": [
    "It appears that each column contains values of a specific data type. You can view statistical information for numerical columns (mean, standard deviation, minimum/maximum values, and the number of non-empty values) using the `.describe` method."
   ]
  },
  {
   "cell_type": "code",
   "execution_count": null,
   "metadata": {
    "id": "OkNaz-ONZdmH",
    "outputId": "f840ca97-841e-439a-e858-2eb82ca8bc67"
   },
   "outputs": [],
   "source": [
    "covid_df.describe()"
   ]
  },
  {
   "cell_type": "markdown",
   "metadata": {
    "id": "jC9uBjH2ZdmH"
   },
   "source": [
    "The `columns` property contains the list of columns within the data frame."
   ]
  },
  {
   "cell_type": "code",
   "execution_count": null,
   "metadata": {
    "id": "OJBWjJyqZdmH",
    "outputId": "8a76c5f2-8f3e-4186-ad0b-f5d5191f8cf4"
   },
   "outputs": [],
   "source": [
    "covid_df.columns"
   ]
  },
  {
   "cell_type": "markdown",
   "metadata": {
    "id": "GeGFhjKDZdmI"
   },
   "source": [
    "You can also retrieve the number of rows and columns in the data frame using the `.shape` property"
   ]
  },
  {
   "cell_type": "code",
   "execution_count": null,
   "metadata": {
    "id": "XqrMVTQtZdmI",
    "outputId": "ea3bb42a-2ad2-458d-cdc6-4631c700bde5"
   },
   "outputs": [],
   "source": [
    "covid_df.shape"
   ]
  },
  {
   "cell_type": "markdown",
   "metadata": {
    "id": "kk8QD2x5ZdmI"
   },
   "source": [
    "Here's a summary of the functions & methods we've looked at so far:\n",
    "\n",
    "* `pd.read_csv` - Read data from a CSV file into a Pandas `DataFrame` object\n",
    "* `.info()` - View basic infomation about rows, columns & data types\n",
    "* `.describe()` - View statistical information about numeric columns\n",
    "* `.columns` - Get the list of column names\n",
    "* `.shape` - Get the number of rows & columns as a tuple\n"
   ]
  },
  {
   "cell_type": "markdown",
   "metadata": {
    "id": "WW7_JA3HZdmI"
   },
   "source": [
    "### Save and upload your notebook\n",
    "\n",
    "Whether you're running this Jupyter notebook online or on your computer, it's essential to save your work from time to time. You can continue working on a saved notebook later or share it with friends and colleagues to let them execute your code. [Jovian](https://www.jovian.ai) offers an easy way of saving and sharing your Jupyter notebooks online."
   ]
  },
  {
   "cell_type": "code",
   "execution_count": null,
   "metadata": {
    "id": "LC4RmdnJZdmI"
   },
   "outputs": [],
   "source": [
    "# Install the library \n",
    "!pip install jovian --upgrade --quiet"
   ]
  },
  {
   "cell_type": "code",
   "execution_count": null,
   "metadata": {
    "id": "X_yNxUtbZdmJ"
   },
   "outputs": [],
   "source": [
    "import jovian"
   ]
  },
  {
   "cell_type": "code",
   "execution_count": null,
   "metadata": {
    "id": "718gb4rRZdmJ",
    "outputId": "5f4ce1b1-7853-484d-8004-7022cc12e2ef"
   },
   "outputs": [],
   "source": [
    "jovian.commit(project='python-pandas-data-analysis')"
   ]
  },
  {
   "cell_type": "markdown",
   "metadata": {
    "id": "JSaPycdIZdmJ"
   },
   "source": [
    "The first time you run `jovian.commit`, you'll be asked to provide an API Key to securely upload the notebook to your Jovian account. You can get the API key from your [Jovian profile page](https://jovian.ai) after logging in / signing up.\n",
    "\n",
    "\n",
    "`jovian.commit` uploads the notebook to your Jovian account, captures the Python environment, and creates a shareable link for your notebook, as shown above. You can use this link to share your work and let anyone (including you) run your notebooks and reproduce your work."
   ]
  },
  {
   "cell_type": "markdown",
   "metadata": {
    "id": "yMB0xNMcZdmJ"
   },
   "source": [
    "## Retrieving data from a data frame\n",
    "\n",
    "The first thing you might want to do is retrieve data from this data frame, e.g., the counts of a specific day or the list of values in a particular column. To do this, it might help to understand the internal representation of data in a data frame. Conceptually, you can think of a dataframe as a dictionary of lists: keys are column names, and values are lists/arrays containing data for the respective columns. "
   ]
  },
  {
   "cell_type": "code",
   "execution_count": null,
   "metadata": {
    "id": "1JsWszC6ZdmJ"
   },
   "outputs": [],
   "source": [
    "# Pandas format is simliar to this\n",
    "covid_data_dict = {\n",
    "    'date':       ['2020-08-30', '2020-08-31', '2020-09-01', '2020-09-02', '2020-09-03'],\n",
    "    'new_cases':  [1444, 1365, 996, 975, 1326],\n",
    "    'new_deaths': [1, 4, 6, 8, 6],\n",
    "    'new_tests': [53541, 42583, 54395, None, None]\n",
    "}"
   ]
  },
  {
   "cell_type": "markdown",
   "metadata": {
    "id": "3v25AZ_pZdmJ"
   },
   "source": [
    "Representing data in the above format has a few benefits:\n",
    "\n",
    "* All values in a column typically have the same type of value, so it's more efficient to store them in a single array.\n",
    "* Retrieving the values for a particular row simply requires extracting the elements at a given index from each column array.\n",
    "* The representation is more compact (column names are recorded only once) compared to other formats that use a dictionary for each row of data (see the example below)."
   ]
  },
  {
   "cell_type": "code",
   "execution_count": null,
   "metadata": {
    "id": "OX3sEylzZdmJ"
   },
   "outputs": [],
   "source": [
    "# Pandas format is not similar to this\n",
    "covid_data_list = [\n",
    "    {'date': '2020-08-30', 'new_cases': 1444, 'new_deaths': 1, 'new_tests': 53541},\n",
    "    {'date': '2020-08-31', 'new_cases': 1365, 'new_deaths': 4, 'new_tests': 42583},\n",
    "    {'date': '2020-09-01', 'new_cases': 996, 'new_deaths': 6, 'new_tests': 54395},\n",
    "    {'date': '2020-09-02', 'new_cases': 975, 'new_deaths': 8 },\n",
    "    {'date': '2020-09-03', 'new_cases': 1326, 'new_deaths': 6},\n",
    "]"
   ]
  },
  {
   "cell_type": "markdown",
   "metadata": {
    "id": "qgK5YpauZdmK"
   },
   "source": [
    "With the dictionary of lists analogy in mind, you can now guess how to retrieve data from a data frame. For example, we can get a list of values from a specific column using the `[]` indexing notation."
   ]
  },
  {
   "cell_type": "code",
   "execution_count": null,
   "metadata": {
    "id": "soMSpchMZdmK",
    "outputId": "448d4cd0-2310-4304-83c7-736a790f9fad"
   },
   "outputs": [],
   "source": [
    "covid_data_dict['new_cases']"
   ]
  },
  {
   "cell_type": "code",
   "execution_count": null,
   "metadata": {
    "id": "wwA7buFOZdmK",
    "outputId": "cf4a3fb9-f698-4ed0-85d7-f3065c4c2f2b"
   },
   "outputs": [],
   "source": [
    "covid_df['new_cases']"
   ]
  },
  {
   "cell_type": "markdown",
   "metadata": {
    "id": "AAIFcT-0ZdmK"
   },
   "source": [
    "Each column is represented using a data structure called `Series`, which is essentially a numpy array with some extra methods and properties."
   ]
  },
  {
   "cell_type": "code",
   "execution_count": null,
   "metadata": {
    "id": "bg6X6z8JZdmL",
    "outputId": "a271af6d-db72-4766-cfac-437c603e0807"
   },
   "outputs": [],
   "source": [
    "type(covid_df['new_cases'])"
   ]
  },
  {
   "cell_type": "markdown",
   "metadata": {
    "id": "DHDblwViZdmL"
   },
   "source": [
    "Like arrays, you can retrieve a specific value with a series using the indexing notation `[]`."
   ]
  },
  {
   "cell_type": "code",
   "execution_count": null,
   "metadata": {
    "id": "W4VLav3IZdmL",
    "outputId": "85ed946b-31ff-4211-9a08-b3e7e04fbf68"
   },
   "outputs": [],
   "source": [
    "covid_df['new_cases'][246]"
   ]
  },
  {
   "cell_type": "code",
   "execution_count": null,
   "metadata": {
    "id": "N3_vDENLZdmM",
    "outputId": "57f8e69c-8e20-4011-b13d-49cda65268b0"
   },
   "outputs": [],
   "source": [
    "covid_df['new_tests'][240]"
   ]
  },
  {
   "cell_type": "markdown",
   "metadata": {
    "id": "ITq288LZZdmN"
   },
   "source": [
    "Pandas also provides the `.at` method to retrieve the element at a specific row & column directly."
   ]
  },
  {
   "cell_type": "code",
   "execution_count": null,
   "metadata": {
    "id": "1MWhzS-GZdmN",
    "outputId": "73f2e51b-0609-4f67-ce3b-7334154126fa"
   },
   "outputs": [],
   "source": [
    "covid_df.at[246, 'new_cases']"
   ]
  },
  {
   "cell_type": "code",
   "execution_count": null,
   "metadata": {
    "id": "KjD_axfwZdmN",
    "outputId": "f93c7ea3-0b0a-43f2-daca-67c68cecddb2"
   },
   "outputs": [],
   "source": [
    "covid_df.at[240, 'new_tests']"
   ]
  },
  {
   "cell_type": "markdown",
   "metadata": {
    "id": "pz6hrl6uZdmO"
   },
   "source": [
    "Instead of using the indexing notation `[]`, Pandas also allows accessing columns as properties of the dataframe using the `.` notation. However, this method only works for columns whose names do not contain spaces or special characters."
   ]
  },
  {
   "cell_type": "code",
   "execution_count": null,
   "metadata": {
    "id": "Tdx4EfxmZdmO",
    "outputId": "ccaa766e-d5ba-4634-84b4-68629d0e9b5e"
   },
   "outputs": [],
   "source": [
    "covid_df.new_cases"
   ]
  },
  {
   "cell_type": "markdown",
   "metadata": {
    "id": "rEPivbZFZdmO"
   },
   "source": [
    "Further, you can also pass a list of columns within the indexing notation `[]` to access a subset of the data frame with just the given columns."
   ]
  },
  {
   "cell_type": "code",
   "execution_count": null,
   "metadata": {
    "id": "V8j7q3XoZdmO",
    "outputId": "f2bdccfc-99f6-46d9-fff8-8008918c8cc8"
   },
   "outputs": [],
   "source": [
    "cases_df = covid_df[['date', 'new_cases']]\n",
    "cases_df"
   ]
  },
  {
   "cell_type": "markdown",
   "metadata": {
    "id": "RWCphlEVZdmP"
   },
   "source": [
    "The new data frame `cases_df` is simply a \"view\" of the original data frame `covid_df`. Both point to the same data in the computer's memory. Changing any values inside one of them will also change the respective values in the other. Sharing data between data frames makes data manipulation in Pandas blazing fast. You needn't worry about the overhead of copying thousands or millions of rows every time you want to create a new data frame by operating on an existing one.\n",
    "\n",
    "Sometimes you might need a full copy of the data frame, in which case you can use the `copy` method."
   ]
  },
  {
   "cell_type": "code",
   "execution_count": null,
   "metadata": {
    "id": "mGVjnJiLZdmP"
   },
   "outputs": [],
   "source": [
    "covid_df_copy = covid_df.copy()"
   ]
  },
  {
   "cell_type": "markdown",
   "metadata": {
    "id": "2mDqGcyKZdmQ"
   },
   "source": [
    "The data within `covid_df_copy` is completely separate from `covid_df`, and changing values inside one of them will not affect the other."
   ]
  },
  {
   "cell_type": "markdown",
   "metadata": {
    "id": "XnDB5HLGZdmQ"
   },
   "source": [
    "To access a specific row of data, Pandas provides the `.loc` method."
   ]
  },
  {
   "cell_type": "code",
   "execution_count": null,
   "metadata": {
    "id": "NWfRf0wXZdmQ",
    "outputId": "c38c675a-af2d-4c99-c5f3-6ff7f4cbc81f"
   },
   "outputs": [],
   "source": [
    "covid_df"
   ]
  },
  {
   "cell_type": "code",
   "execution_count": null,
   "metadata": {
    "id": "N2-jh_d-ZdmQ",
    "outputId": "89274ff8-6564-49ce-8619-99f4b774b068"
   },
   "outputs": [],
   "source": [
    "covid_df.loc[243]"
   ]
  },
  {
   "cell_type": "markdown",
   "metadata": {
    "id": "FyEq7fWyZdmQ"
   },
   "source": [
    "Each retrieved row is also a `Series` object."
   ]
  },
  {
   "cell_type": "code",
   "execution_count": null,
   "metadata": {
    "id": "YsnntJvMZdmQ",
    "outputId": "34767342-b882-4444-dd6a-f77f30077ce0"
   },
   "outputs": [],
   "source": [
    "type(covid_df.loc[243])"
   ]
  },
  {
   "cell_type": "markdown",
   "metadata": {
    "id": "zUZoTlU1ZdmR"
   },
   "source": [
    "We can use the `.head` and `.tail` methods to view the first or last few rows of data."
   ]
  },
  {
   "cell_type": "code",
   "execution_count": null,
   "metadata": {
    "id": "O1OvVKcCZdmR",
    "outputId": "418bd088-2a1b-4646-d3e1-fd3d52fffe3f"
   },
   "outputs": [],
   "source": [
    "covid_df.head(5)"
   ]
  },
  {
   "cell_type": "code",
   "execution_count": null,
   "metadata": {
    "id": "WJWB212XZdmR",
    "outputId": "ee479583-927a-4bdd-d8ef-17b32644706e"
   },
   "outputs": [],
   "source": [
    "covid_df.tail(4)"
   ]
  },
  {
   "cell_type": "markdown",
   "metadata": {
    "id": "WBeyq_4HZdmS"
   },
   "source": [
    "Notice above that while the first few values in the `new_cases` and `new_deaths` columns are `0`, the corresponding values within the `new_tests` column are `NaN`. That is because the CSV file does not contain any data for the `new_tests` column for specific dates (you can verify this by looking into the file). These values may be missing or unknown."
   ]
  },
  {
   "cell_type": "code",
   "execution_count": null,
   "metadata": {
    "id": "MbYX8VojZdmS",
    "outputId": "4e020348-50f4-494a-df55-8e39f8fc727e"
   },
   "outputs": [],
   "source": [
    "covid_df.at[0, 'new_tests']"
   ]
  },
  {
   "cell_type": "code",
   "execution_count": null,
   "metadata": {
    "id": "Tz0vnVbqZdmS",
    "outputId": "9647de9b-4e01-4926-e4e4-fa53a7a3c6d7"
   },
   "outputs": [],
   "source": [
    "type(covid_df.at[0, 'new_tests'])"
   ]
  },
  {
   "cell_type": "markdown",
   "metadata": {
    "id": "4aE0KJYhZdmS"
   },
   "source": [
    "The distinction between `0` and `NaN` is subtle but important. In this dataset, it represents that daily test numbers were not reported on specific dates. Italy started reporting daily tests on Apr 19, 2020. 93,5310 tests had already been conducted before Apr 19. \n",
    "\n",
    "We can find the first index that doesn't contain a `NaN` value using a column's `first_valid_index` method."
   ]
  },
  {
   "cell_type": "code",
   "execution_count": null,
   "metadata": {
    "id": "hytGG1kmZdmT",
    "outputId": "43560c52-07c2-42d5-8f71-578314588709"
   },
   "outputs": [],
   "source": [
    "covid_df.new_tests.first_valid_index()"
   ]
  },
  {
   "cell_type": "markdown",
   "metadata": {
    "id": "PrkFqORVZdmT"
   },
   "source": [
    "Let's look at a few rows before and after this index to verify that the values change from `NaN` to actual numbers. We can do this by passing a range to `loc`."
   ]
  },
  {
   "cell_type": "code",
   "execution_count": null,
   "metadata": {
    "id": "4R5MlJjtZdmT",
    "outputId": "8b8b4879-288b-4093-c718-27e11b64f625"
   },
   "outputs": [],
   "source": [
    "covid_df.loc[108:113]"
   ]
  },
  {
   "cell_type": "markdown",
   "metadata": {
    "id": "7NdeBnmkZdmT"
   },
   "source": [
    "We can use the `.sample` method to retrieve a random sample of rows from the data frame."
   ]
  },
  {
   "cell_type": "code",
   "execution_count": null,
   "metadata": {
    "id": "jRsEcRghZdmT",
    "outputId": "40b58bbb-25ed-4d16-f93c-04befa09b674"
   },
   "outputs": [],
   "source": [
    "covid_df.sample(10)"
   ]
  },
  {
   "cell_type": "markdown",
   "metadata": {
    "id": "fTmwZctAZdmT"
   },
   "source": [
    "Notice that even though we have taken a random sample, each row's original index is preserved - this is a useful property of data frames.\n",
    "\n"
   ]
  },
  {
   "cell_type": "markdown",
   "metadata": {
    "id": "1EsYi_P9ZdmT"
   },
   "source": [
    "Here's a summary of the functions & methods we looked at in this section:\n",
    "\n",
    "- `covid_df['new_cases']` - Retrieving columns as a `Series` using the column name\n",
    "- `new_cases[243]` - Retrieving values from a `Series` using an index\n",
    "- `covid_df.at[243, 'new_cases']` - Retrieving a single value from a data frame\n",
    "- `covid_df.copy()` - Creating a deep copy of a data frame\n",
    "- `covid_df.loc[243]` - Retrieving a row or range of rows of data from the data frame\n",
    "- `head`, `tail`, and `sample` - Retrieving multiple rows of data from the data frame\n",
    "- `covid_df.new_tests.first_valid_index` - Finding the first non-empty index in a series\n",
    "\n"
   ]
  },
  {
   "cell_type": "markdown",
   "metadata": {
    "id": "jYjeXdPAZdmU"
   },
   "source": [
    "Let's save a snapshot of our notebook before continuing."
   ]
  },
  {
   "cell_type": "code",
   "execution_count": null,
   "metadata": {
    "id": "1wLFXzlcZdmU"
   },
   "outputs": [],
   "source": [
    "import jovian"
   ]
  },
  {
   "cell_type": "code",
   "execution_count": null,
   "metadata": {
    "id": "mt3GBl_vZdmU",
    "outputId": "2d1c956c-9902-4b93-bc18-a8c9323bbd6e"
   },
   "outputs": [],
   "source": [
    "jovian.commit()"
   ]
  },
  {
   "cell_type": "markdown",
   "metadata": {
    "id": "s0yNQWFxZdmU"
   },
   "source": [
    "## Analyzing data from data frames\n",
    "\n",
    "Let's try to answer some questions about our data.\n",
    "\n",
    "**Q: What are the total number of reported cases and deaths related to Covid-19 in Italy?**\n",
    "\n",
    "Similar to Numpy arrays, a Pandas series supports the `sum` method to answer these questions."
   ]
  },
  {
   "cell_type": "code",
   "execution_count": null,
   "metadata": {
    "id": "4Yb_1nQ0ZdmU"
   },
   "outputs": [],
   "source": [
    "total_cases = covid_df.new_cases.sum()\n",
    "total_deaths = covid_df.new_deaths.sum()"
   ]
  },
  {
   "cell_type": "code",
   "execution_count": null,
   "metadata": {
    "id": "5klMOUynZdmU",
    "outputId": "5b91212e-5278-4678-c5a1-277bf8371963"
   },
   "outputs": [],
   "source": [
    "print('The number of reported cases is {} and the number of reported deaths is {}.'.format(int(total_cases), int(total_deaths)))"
   ]
  },
  {
   "cell_type": "markdown",
   "metadata": {
    "id": "7V1RfR3oZdmU"
   },
   "source": [
    "**Q: What is the overall death rate (ratio of reported deaths to reported cases)?**"
   ]
  },
  {
   "cell_type": "code",
   "execution_count": null,
   "metadata": {
    "id": "ShyKiZyTZdmV"
   },
   "outputs": [],
   "source": [
    "death_rate = covid_df.new_deaths.sum() / covid_df.new_cases.sum()"
   ]
  },
  {
   "cell_type": "code",
   "execution_count": null,
   "metadata": {
    "id": "aWq8ZjdmZdmV",
    "outputId": "6b23ee00-821d-405a-ae92-112c72871867"
   },
   "outputs": [],
   "source": [
    "print(\"The overall reported death rate in Italy is {:.2f} %.\".format(death_rate*100))"
   ]
  },
  {
   "cell_type": "markdown",
   "metadata": {
    "id": "_DhU1U2DZdmV"
   },
   "source": [
    "**Q: What is the overall number of tests conducted? A total of 935310 tests were conducted before daily test numbers were reported.**\n"
   ]
  },
  {
   "cell_type": "code",
   "execution_count": null,
   "metadata": {
    "id": "4VghvByuZdmV"
   },
   "outputs": [],
   "source": [
    "initial_tests = 935310\n",
    "total_tests = initial_tests + covid_df.new_tests.sum()"
   ]
  },
  {
   "cell_type": "code",
   "execution_count": null,
   "metadata": {
    "id": "g_sURyzAZdmV",
    "outputId": "a11c8db0-ac6b-4075-bb3d-2fc1d3615615"
   },
   "outputs": [],
   "source": [
    "total_tests"
   ]
  },
  {
   "cell_type": "markdown",
   "metadata": {
    "id": "-11k9c2BZdmV"
   },
   "source": [
    "**Q: What fraction of tests returned a positive result?**"
   ]
  },
  {
   "cell_type": "code",
   "execution_count": null,
   "metadata": {
    "id": "36OrmwpKZdmV"
   },
   "outputs": [],
   "source": [
    "positive_rate = total_cases / total_tests"
   ]
  },
  {
   "cell_type": "code",
   "execution_count": null,
   "metadata": {
    "id": "APPjtWijZdmV",
    "outputId": "c63e89f2-34e8-484c-859c-c8576c23ff81"
   },
   "outputs": [],
   "source": [
    "print('{:.2f}% of tests in Italy led to a positive diagnosis.'.format(positive_rate*100))"
   ]
  },
  {
   "cell_type": "markdown",
   "metadata": {
    "id": "AeiJL4gnZdmV"
   },
   "source": [
    "Try asking and answering some more questions about the data using the empty cells below."
   ]
  },
  {
   "cell_type": "code",
   "execution_count": null,
   "metadata": {
    "id": "Wtj9KpLlZdmV"
   },
   "outputs": [],
   "source": []
  },
  {
   "cell_type": "code",
   "execution_count": null,
   "metadata": {
    "id": "4Mo10E1fZdmW"
   },
   "outputs": [],
   "source": []
  },
  {
   "cell_type": "markdown",
   "metadata": {
    "id": "NpNZuxehZdmW"
   },
   "source": [
    "Let's save and commit our work before continuing."
   ]
  },
  {
   "cell_type": "code",
   "execution_count": null,
   "metadata": {
    "id": "6AVKsiKdZdmW"
   },
   "outputs": [],
   "source": [
    "import jovian"
   ]
  },
  {
   "cell_type": "code",
   "execution_count": null,
   "metadata": {
    "id": "nXIpzO_BZdmW",
    "outputId": "71556f99-71ee-4bd0-a859-99bb0edf52ab"
   },
   "outputs": [],
   "source": [
    "jovian.commit()"
   ]
  },
  {
   "cell_type": "markdown",
   "metadata": {
    "id": "OII25RWPZdmW"
   },
   "source": [
    "## Querying and sorting rows\n",
    "\n",
    "Let's say we want only want to look at the days which had more than 1000 reported cases. We can use a boolean expression to check which rows satisfy this criterion."
   ]
  },
  {
   "cell_type": "code",
   "execution_count": null,
   "metadata": {
    "id": "1ywJ-q2bZdmW"
   },
   "outputs": [],
   "source": [
    "high_new_cases = covid_df.new_cases > 1000"
   ]
  },
  {
   "cell_type": "code",
   "execution_count": null,
   "metadata": {
    "id": "h153cydpZdmW",
    "outputId": "3e4fab2b-b99c-4bcc-f8e8-9a3cea143683"
   },
   "outputs": [],
   "source": [
    "high_new_cases"
   ]
  },
  {
   "cell_type": "markdown",
   "metadata": {
    "id": "YxnGzqKQZdmW"
   },
   "source": [
    "The boolean expression returns a series containing `True` and `False` boolean values. You can use this series to select a subset of rows from the original dataframe, corresponding to the `True` values in the series."
   ]
  },
  {
   "cell_type": "code",
   "execution_count": null,
   "metadata": {
    "id": "HR7dEMa_ZdmW",
    "outputId": "676ea297-4f8a-441d-eb7d-b59356b81411"
   },
   "outputs": [],
   "source": [
    "covid_df[high_new_cases]"
   ]
  },
  {
   "cell_type": "markdown",
   "metadata": {
    "id": "dL4iDGdJZdmW"
   },
   "source": [
    "We can write this succinctly on a single line by passing the boolean expression as an index to the data frame."
   ]
  },
  {
   "cell_type": "code",
   "execution_count": null,
   "metadata": {
    "id": "TQtLS7u-ZdmW"
   },
   "outputs": [],
   "source": [
    "high_cases_df = covid_df[covid_df.new_cases > 1000]"
   ]
  },
  {
   "cell_type": "code",
   "execution_count": null,
   "metadata": {
    "id": "cT3-m4PDZdmW",
    "outputId": "33cf00a4-66b1-44b9-d32e-09d00bee2927"
   },
   "outputs": [],
   "source": [
    "high_cases_df"
   ]
  },
  {
   "cell_type": "markdown",
   "metadata": {
    "id": "-axLtWLNZdmW"
   },
   "source": [
    "The data frame contains 72 rows, but only the first & last five rows are displayed by default with Jupyter for brevity. We can change some display options to view all the rows."
   ]
  },
  {
   "cell_type": "code",
   "execution_count": null,
   "metadata": {
    "id": "YqTZ3635ZdmX",
    "outputId": "87a7060e-61b3-4b47-fab2-b603ff1fde21",
    "scrolled": true
   },
   "outputs": [],
   "source": [
    "from IPython.display import display\n",
    "with pd.option_context('display.max_rows', 100):\n",
    "    display(covid_df[covid_df.new_cases > 1000])"
   ]
  },
  {
   "cell_type": "markdown",
   "metadata": {
    "id": "ac8LXkTWZdmX"
   },
   "source": [
    "We can also formulate more complex queries that involve multiple columns. As an example, let's try to determine the days when the ratio of cases reported to tests conducted is higher than the overall `positive_rate`."
   ]
  },
  {
   "cell_type": "code",
   "execution_count": null,
   "metadata": {
    "id": "kjEdT502ZdmX",
    "outputId": "2c657b74-ad64-4c6d-8d6c-482ce28b16cd"
   },
   "outputs": [],
   "source": [
    "positive_rate"
   ]
  },
  {
   "cell_type": "code",
   "execution_count": null,
   "metadata": {
    "id": "H-MITN2qZdmX"
   },
   "outputs": [],
   "source": [
    "high_ratio_df = covid_df[covid_df.new_cases / covid_df.new_tests > positive_rate]"
   ]
  },
  {
   "cell_type": "code",
   "execution_count": null,
   "metadata": {
    "id": "gU-qP9dTZdmX",
    "outputId": "7d7747db-e98f-46ba-f9dc-a328c407859d"
   },
   "outputs": [],
   "source": [
    "high_ratio_df"
   ]
  },
  {
   "cell_type": "markdown",
   "metadata": {
    "id": "cyGrs-o_ZdmX"
   },
   "source": [
    "The result of performing an operation on two columns is a new series."
   ]
  },
  {
   "cell_type": "code",
   "execution_count": null,
   "metadata": {
    "id": "bDiDU6nYZdmX",
    "outputId": "110fdd58-44f3-4f47-a61c-e57a7e4a6e86"
   },
   "outputs": [],
   "source": [
    "covid_df.new_cases / covid_df.new_tests"
   ]
  },
  {
   "cell_type": "markdown",
   "metadata": {
    "id": "U8T8-ySAZdmX"
   },
   "source": [
    "We can use this series to add a new column to the data frame."
   ]
  },
  {
   "cell_type": "code",
   "execution_count": null,
   "metadata": {
    "id": "t0i7Wp1lZdmX"
   },
   "outputs": [],
   "source": [
    "covid_df['positive_rate'] = covid_df.new_cases / covid_df.new_tests"
   ]
  },
  {
   "cell_type": "code",
   "execution_count": null,
   "metadata": {
    "id": "RQaGGD_lZdmX",
    "outputId": "a92d1008-a4b0-4e4d-89d1-f900a9a34a6b"
   },
   "outputs": [],
   "source": [
    "covid_df"
   ]
  },
  {
   "cell_type": "markdown",
   "metadata": {
    "id": "BfTJFs5gZdmX"
   },
   "source": [
    "However, keep in mind that sometimes it takes a few days to get the results for a test, so we can't compare the number of new cases with the number of tests conducted on the same day. Any inference based on this `positive_rate` column is likely to be incorrect. It's essential to watch out for such subtle relationships that are often not conveyed within the CSV file and require some external context. It's always a good idea to read through the documentation provided with the dataset or ask for more information.\n",
    "\n",
    "For now, let's remove the `positive_rate` column using the `drop` method."
   ]
  },
  {
   "cell_type": "code",
   "execution_count": null,
   "metadata": {
    "id": "LiH3mcLtZdmY"
   },
   "outputs": [],
   "source": [
    "covid_df.drop(columns=['positive_rate'], inplace=True)"
   ]
  },
  {
   "cell_type": "markdown",
   "metadata": {
    "id": "Y7l-Cbe5ZdmY"
   },
   "source": [
    "Can you figure the purpose of the `inplace` argument?"
   ]
  },
  {
   "cell_type": "markdown",
   "metadata": {
    "id": "Uc1zwtH2ZdmY"
   },
   "source": [
    "### Sorting rows using column values\n",
    "\n",
    "The rows can also be sorted by a specific column using `.sort_values`. Let's sort to identify the days with the highest number of cases, then chain it with the `head` method to list just the first ten results."
   ]
  },
  {
   "cell_type": "code",
   "execution_count": null,
   "metadata": {
    "id": "lrtIKgO3ZdmY",
    "outputId": "d47abc73-a3c0-4da3-f286-8b8ebb3974c4"
   },
   "outputs": [],
   "source": [
    "covid_df.sort_values('new_cases', ascending=False).head(10)"
   ]
  },
  {
   "cell_type": "markdown",
   "metadata": {
    "id": "-cblZ68BZdmY"
   },
   "source": [
    "It looks like the last two weeks of March had the highest number of daily cases. Let's compare this to the days where the highest number of deaths were recorded."
   ]
  },
  {
   "cell_type": "code",
   "execution_count": null,
   "metadata": {
    "id": "UXkCSoF5ZdmY",
    "outputId": "78028274-aa8b-465a-9c7b-1e755618fc5f"
   },
   "outputs": [],
   "source": [
    "covid_df.sort_values('new_deaths', ascending=False).head(10)"
   ]
  },
  {
   "cell_type": "markdown",
   "metadata": {
    "id": "Fwo-AZFfZdmY"
   },
   "source": [
    "It appears that daily deaths hit a peak just about a week after the peak in daily new cases.\n",
    "\n",
    "Let's also look at the days with the least number of cases. We might expect to see the first few days of the year on this list."
   ]
  },
  {
   "cell_type": "code",
   "execution_count": null,
   "metadata": {
    "id": "CtKVfBQjZdmY",
    "outputId": "207496f0-38c6-450d-a9fe-01157b32caba"
   },
   "outputs": [],
   "source": [
    "covid_df.sort_values('new_cases').head(10)"
   ]
  },
  {
   "cell_type": "markdown",
   "metadata": {
    "id": "8wYEwK1hZdmY"
   },
   "source": [
    "It seems like the count of new cases on Jun 20, 2020, was `-148`, a negative number! Not something we might have expected, but that's the nature of real-world data. It could be a data entry error, or the government may have issued a correction to account for miscounting in the past. Can you dig through news articles online and figure out why the number was negative?\n",
    "\n",
    "Let's look at some days before and after Jun 20, 2020."
   ]
  },
  {
   "cell_type": "code",
   "execution_count": null,
   "metadata": {
    "id": "kTB8HQgVZdmZ",
    "outputId": "5e5b13a1-3984-4ecd-eac2-2d3ad75b105f"
   },
   "outputs": [],
   "source": [
    "covid_df.loc[169:175]"
   ]
  },
  {
   "cell_type": "markdown",
   "metadata": {
    "id": "SMDsCT_VZdmZ"
   },
   "source": [
    "For now, let's assume this was indeed a data entry error. We can use one of the following approaches for dealing with the missing or faulty value:\n",
    "1. Replace it with `0`.\n",
    "2. Replace it with the average of the entire column\n",
    "3. Replace it with the average of the values on the previous & next date\n",
    "4. Discard the row entirely\n",
    "\n",
    "Which approach you pick requires some context about the data and the problem. In this case, since we are dealing with data ordered by date, we can go ahead with the third approach.\n",
    "\n",
    "You can use the `.at` method to modify a specific value within the dataframe."
   ]
  },
  {
   "cell_type": "code",
   "execution_count": null,
   "metadata": {
    "id": "8jDb02rmZdmZ"
   },
   "outputs": [],
   "source": [
    "covid_df.at[172, 'new_cases'] = (covid_df.at[171, 'new_cases'] + covid_df.at[173, 'new_cases'])/2"
   ]
  },
  {
   "cell_type": "markdown",
   "metadata": {
    "id": "gEGQkCPwZdmZ"
   },
   "source": [
    "Here's a summary of the functions & methods we looked at in this section:\n",
    "\n",
    "- `covid_df.new_cases.sum()` - Computing the sum of values in a column or series\n",
    "- `covid_df[covid_df.new_cases > 1000]` - Querying a subset of rows satisfying the chosen criteria using boolean expressions\n",
    "- `df['pos_rate'] = df.new_cases/df.new_tests` - Adding new columns by combining data from existing columns\n",
    "- `covid_df.drop('positive_rate')` - Removing one or more columns from the data frame\n",
    "- `sort_values` - Sorting the rows of a data frame using column values\n",
    "- `covid_df.at[172, 'new_cases'] = ...` - Replacing a value within the data frame"
   ]
  },
  {
   "cell_type": "markdown",
   "metadata": {
    "id": "s2ufO7TIZdmZ"
   },
   "source": [
    "Let's save and commit our work before continuing."
   ]
  },
  {
   "cell_type": "code",
   "execution_count": null,
   "metadata": {
    "id": "U1PEp5UcZdmZ"
   },
   "outputs": [],
   "source": [
    "import jovian"
   ]
  },
  {
   "cell_type": "code",
   "execution_count": null,
   "metadata": {
    "id": "fd7gqc0PZdmZ",
    "outputId": "c6810bc0-978d-4f1b-a08f-37e6f0dda6df"
   },
   "outputs": [],
   "source": [
    "jovian.commit()"
   ]
  },
  {
   "cell_type": "markdown",
   "metadata": {
    "id": "GvqikmxNZdmZ"
   },
   "source": [
    "## Working with dates\n",
    "\n",
    "While we've looked at overall numbers for the cases, tests, positive rate, etc., it would also be useful to study these numbers on a month-by-month basis. The `date` column might come in handy here, as Pandas provides many utilities for working with dates."
   ]
  },
  {
   "cell_type": "code",
   "execution_count": null,
   "metadata": {
    "id": "i6dBIBpRZdmZ",
    "outputId": "120b5d04-198a-4cd8-bba3-0901fbc6d51c"
   },
   "outputs": [],
   "source": [
    "covid_df.date"
   ]
  },
  {
   "cell_type": "markdown",
   "metadata": {
    "id": "hHTJvYyhZdmZ"
   },
   "source": [
    "The data type of date is currently `object`, so Pandas does not know that this column is a date. We can convert it into a `datetime` column using the `pd.to_datetime` method."
   ]
  },
  {
   "cell_type": "code",
   "execution_count": null,
   "metadata": {
    "id": "k8pWb9kYZdmZ"
   },
   "outputs": [],
   "source": [
    "covid_df['date'] = pd.to_datetime(covid_df.date)"
   ]
  },
  {
   "cell_type": "code",
   "execution_count": null,
   "metadata": {
    "id": "9t0CM2WVZdmZ",
    "outputId": "3bd8c61c-4fc0-4c71-96cb-6507dc92609b"
   },
   "outputs": [],
   "source": [
    "covid_df['date']"
   ]
  },
  {
   "cell_type": "markdown",
   "metadata": {
    "id": "hNs4dZK-ZdmZ"
   },
   "source": [
    "You can see that it now has the datatype `datetime64`. We can now extract different parts of the data into separate columns, using the `DatetimeIndex` class ([view docs](https://pandas.pydata.org/pandas-docs/version/0.23.4/generated/pandas.DatetimeIndex.html))."
   ]
  },
  {
   "cell_type": "code",
   "execution_count": null,
   "metadata": {
    "id": "O9Y38ixjZdma"
   },
   "outputs": [],
   "source": [
    "covid_df['year'] = pd.DatetimeIndex(covid_df.date).year\n",
    "covid_df['month'] = pd.DatetimeIndex(covid_df.date).month\n",
    "covid_df['day'] = pd.DatetimeIndex(covid_df.date).day\n",
    "covid_df['weekday'] = pd.DatetimeIndex(covid_df.date).weekday"
   ]
  },
  {
   "cell_type": "code",
   "execution_count": null,
   "metadata": {
    "id": "1YZtbYjdZdma",
    "outputId": "b588ea76-eee3-43c7-e880-81ef49792ca6"
   },
   "outputs": [],
   "source": [
    "covid_df"
   ]
  },
  {
   "cell_type": "markdown",
   "metadata": {
    "id": "E4xhJfrYZdma"
   },
   "source": [
    "Let's check the overall metrics for May. We can query the rows for May, choose a subset of columns, and use the `sum` method to aggregate each selected column's values."
   ]
  },
  {
   "cell_type": "code",
   "execution_count": null,
   "metadata": {
    "id": "kvdeAkBOZdma"
   },
   "outputs": [],
   "source": [
    "# Query the rows for May\n",
    "covid_df_may = covid_df[covid_df.month == 5]\n",
    "\n",
    "# Extract the subset of columns to be aggregated\n",
    "covid_df_may_metrics = covid_df_may[['new_cases', 'new_deaths', 'new_tests']]\n",
    "\n",
    "# Get the column-wise sum\n",
    "covid_may_totals = covid_df_may_metrics.sum()"
   ]
  },
  {
   "cell_type": "code",
   "execution_count": null,
   "metadata": {
    "id": "cMOFLNv5Zdma",
    "outputId": "d5482722-a3c3-47f5-f52d-d52fd4f41cac"
   },
   "outputs": [],
   "source": [
    "covid_may_totals"
   ]
  },
  {
   "cell_type": "code",
   "execution_count": null,
   "metadata": {
    "id": "TFysoZgmZdma",
    "outputId": "c4404680-a004-4bf0-afbc-c2af1db469fb"
   },
   "outputs": [],
   "source": [
    "type(covid_may_totals)"
   ]
  },
  {
   "cell_type": "markdown",
   "metadata": {
    "id": "tZUnTOW6Zdma"
   },
   "source": [
    "We can also combine the above operations into a single statement."
   ]
  },
  {
   "cell_type": "code",
   "execution_count": null,
   "metadata": {
    "id": "7-XxnJLnZdma",
    "outputId": "12548243-7623-4de7-e580-fb3fbf46fcdc"
   },
   "outputs": [],
   "source": [
    "covid_df[covid_df.month == 5][['new_cases', 'new_deaths', 'new_tests']].sum()"
   ]
  },
  {
   "cell_type": "markdown",
   "metadata": {
    "id": "4fETor-GZdma"
   },
   "source": [
    "As another example, let's check if the number of cases reported on Sundays is higher than the average number of cases reported every day. This time, we might want to aggregate columns using the `.mean` method."
   ]
  },
  {
   "cell_type": "code",
   "execution_count": null,
   "metadata": {
    "id": "wTJGMJncZdmb",
    "outputId": "99239177-3efe-4805-b33b-07b3c1bbed79"
   },
   "outputs": [],
   "source": [
    "# Overall average\n",
    "covid_df.new_cases.mean()"
   ]
  },
  {
   "cell_type": "code",
   "execution_count": null,
   "metadata": {
    "id": "2gzMTlGNZdmb",
    "outputId": "45bc69f5-ae65-47c1-9504-88a2bffa47d8"
   },
   "outputs": [],
   "source": [
    "# Average for Sundays\n",
    "covid_df[covid_df.weekday == 6].new_cases.mean()"
   ]
  },
  {
   "cell_type": "markdown",
   "metadata": {
    "id": "2C_YWIx2Zdmb"
   },
   "source": [
    "It seems like more cases were reported on Sundays compared to other days.\n",
    "\n",
    "Try asking and answering some more date-related questions about the data using the cells below."
   ]
  },
  {
   "cell_type": "code",
   "execution_count": null,
   "metadata": {
    "id": "2-vVYb0gZdmb"
   },
   "outputs": [],
   "source": []
  },
  {
   "cell_type": "code",
   "execution_count": null,
   "metadata": {
    "id": "idlKMCt9Zdmb"
   },
   "outputs": [],
   "source": []
  },
  {
   "cell_type": "code",
   "execution_count": null,
   "metadata": {
    "id": "HJJAggN8Zdmb"
   },
   "outputs": [],
   "source": []
  },
  {
   "cell_type": "code",
   "execution_count": null,
   "metadata": {
    "id": "6YpOsfhKZdmb"
   },
   "outputs": [],
   "source": []
  },
  {
   "cell_type": "markdown",
   "metadata": {
    "id": "axWh-Nf_Zdmb"
   },
   "source": [
    "Let's save and commit our work before continuing."
   ]
  },
  {
   "cell_type": "code",
   "execution_count": null,
   "metadata": {
    "id": "F9faA4XHZdmc"
   },
   "outputs": [],
   "source": [
    "import jovian"
   ]
  },
  {
   "cell_type": "code",
   "execution_count": null,
   "metadata": {
    "id": "P6v7zbDVZdmc",
    "outputId": "4a22c325-32e0-4d04-acea-277216a8dd75"
   },
   "outputs": [],
   "source": [
    "jovian.commit()"
   ]
  },
  {
   "cell_type": "markdown",
   "metadata": {
    "id": "G3QZtPqpZdmd"
   },
   "source": [
    "## Grouping and aggregation\n",
    "\n",
    "As a next step, we might want to summarize the day-wise data and create a new dataframe with month-wise data. We can use the `groupby` function to create a group for each month, select the columns we wish to aggregate, and aggregate them using the `sum` method. "
   ]
  },
  {
   "cell_type": "code",
   "execution_count": null,
   "metadata": {
    "id": "8iXi05TvZdmd"
   },
   "outputs": [],
   "source": [
    "covid_month_df = covid_df.groupby('month')[['new_cases', 'new_deaths', 'new_tests']].sum()"
   ]
  },
  {
   "cell_type": "code",
   "execution_count": null,
   "metadata": {
    "id": "fsaPaZZFZdmd",
    "outputId": "af3c64d9-dc61-42d6-9340-1813887d5e18"
   },
   "outputs": [],
   "source": [
    "covid_month_df"
   ]
  },
  {
   "cell_type": "markdown",
   "metadata": {
    "id": "zlU0l-8PZdmd"
   },
   "source": [
    "The result is a new data frame that uses unique values from the column passed to `groupby` as the index. Grouping and aggregation is a powerful method for progressively summarizing data into smaller data frames.\n",
    "\n",
    "Instead of aggregating by sum, you can also aggregate by other measures like mean. Let's compute the average number of daily new cases, deaths, and tests for each month."
   ]
  },
  {
   "cell_type": "code",
   "execution_count": null,
   "metadata": {
    "id": "XiPzU0VhZdmd"
   },
   "outputs": [],
   "source": [
    "covid_month_mean_df = covid_df.groupby('month')[['new_cases', 'new_deaths', 'new_tests']].mean()"
   ]
  },
  {
   "cell_type": "code",
   "execution_count": null,
   "metadata": {
    "id": "FExna45rZdmd",
    "outputId": "51722174-db66-4da8-d504-d2f8a32d1bb1"
   },
   "outputs": [],
   "source": [
    "covid_month_mean_df"
   ]
  },
  {
   "cell_type": "markdown",
   "metadata": {
    "id": "l8YHJEtBZdme"
   },
   "source": [
    "Apart from grouping, another form of aggregation is the running or cumulative sum of cases, tests, or death up to each row's date. We can use the `cumsum` method to compute the cumulative sum of a column as a new series. Let's add three new columns: `total_cases`, `total_deaths`, and `total_tests`."
   ]
  },
  {
   "cell_type": "code",
   "execution_count": null,
   "metadata": {
    "id": "O2ZCf7GhZdme"
   },
   "outputs": [],
   "source": [
    "covid_df['total_cases'] = covid_df.new_cases.cumsum()"
   ]
  },
  {
   "cell_type": "code",
   "execution_count": null,
   "metadata": {
    "id": "S011k6rMZdme"
   },
   "outputs": [],
   "source": [
    "covid_df['total_deaths'] = covid_df.new_deaths.cumsum()"
   ]
  },
  {
   "cell_type": "code",
   "execution_count": null,
   "metadata": {
    "id": "HqkO2E0kZdme"
   },
   "outputs": [],
   "source": [
    "covid_df['total_tests'] = covid_df.new_tests.cumsum() + initial_tests"
   ]
  },
  {
   "cell_type": "markdown",
   "metadata": {
    "id": "jIpqrXU-Zdme"
   },
   "source": [
    "We've also included the initial test count in `total_test` to account for tests conducted before daily reporting was started. "
   ]
  },
  {
   "cell_type": "code",
   "execution_count": null,
   "metadata": {
    "id": "Ycr8-A1aZdme",
    "outputId": "1b3e9adc-24f8-4db3-98f0-9d2c43e706a8"
   },
   "outputs": [],
   "source": [
    "covid_df"
   ]
  },
  {
   "cell_type": "markdown",
   "metadata": {
    "id": "LyROfRt6Zdme"
   },
   "source": [
    "Notice how the `NaN` values in the `total_tests` column remain unaffected."
   ]
  },
  {
   "cell_type": "markdown",
   "metadata": {
    "id": "UvAFZeXsZdme"
   },
   "source": [
    "## Merging data from multiple sources\n",
    "\n",
    "To determine other metrics like test per million, cases per million, etc., we require some more information about the country, viz. its population. Let's download another file `locations.csv` that contains health-related information for many countries, including Italy."
   ]
  },
  {
   "cell_type": "code",
   "execution_count": null,
   "metadata": {
    "id": "_42LWN0YZdmf",
    "outputId": "76f8109d-0202-4e23-89ab-3c227aaecc39"
   },
   "outputs": [],
   "source": [
    "urlretrieve('https://gist.githubusercontent.com/aakashns/8684589ef4f266116cdce023377fc9c8/raw/99ce3826b2a9d1e6d0bde7e9e559fc8b6e9ac88b/locations.csv', \n",
    "            'locations.csv')"
   ]
  },
  {
   "cell_type": "code",
   "execution_count": null,
   "metadata": {
    "id": "XolsXcOfZdmf"
   },
   "outputs": [],
   "source": [
    "locations_df = pd.read_csv('locations.csv')"
   ]
  },
  {
   "cell_type": "code",
   "execution_count": null,
   "metadata": {
    "id": "G3s7-SS-Zdmf",
    "outputId": "a49cf097-1e70-432b-e6f2-4af471fb0be5"
   },
   "outputs": [],
   "source": [
    "locations_df"
   ]
  },
  {
   "cell_type": "code",
   "execution_count": null,
   "metadata": {
    "id": "asu_fSzZZdmf",
    "outputId": "84643ab6-d9f2-4920-835b-e3065e2fc4b4"
   },
   "outputs": [],
   "source": [
    "locations_df[locations_df.location == \"Italy\"]"
   ]
  },
  {
   "cell_type": "markdown",
   "metadata": {
    "id": "cnmHpoY9Zdmf"
   },
   "source": [
    "We can merge this data into our existing data frame by adding more columns. However, to merge two data frames, we need at least one common column. Let's insert a `location` column in the `covid_df` dataframe with all values set to `\"Italy\"`."
   ]
  },
  {
   "cell_type": "code",
   "execution_count": null,
   "metadata": {
    "id": "RzmVqYvTZdmf"
   },
   "outputs": [],
   "source": [
    "covid_df['location'] = \"Italy\""
   ]
  },
  {
   "cell_type": "code",
   "execution_count": null,
   "metadata": {
    "id": "3wcUpetPZdmg",
    "outputId": "4f131b30-f40f-4b25-b586-b22752a88cb6"
   },
   "outputs": [],
   "source": [
    "covid_df"
   ]
  },
  {
   "cell_type": "markdown",
   "metadata": {
    "id": "_OuP-BiBZdmg"
   },
   "source": [
    "We can now add the columns from `locations_df` into `covid_df` using the `.merge` method."
   ]
  },
  {
   "cell_type": "code",
   "execution_count": null,
   "metadata": {
    "id": "6h7y_BhgZdmg"
   },
   "outputs": [],
   "source": [
    "merged_df = covid_df.merge(locations_df, on=\"location\")"
   ]
  },
  {
   "cell_type": "code",
   "execution_count": null,
   "metadata": {
    "id": "V4Psv0vmZdmg",
    "outputId": "8d8d0cd0-800f-4ba1-f4c7-2f0ee1d7eafe"
   },
   "outputs": [],
   "source": [
    "merged_df"
   ]
  },
  {
   "cell_type": "markdown",
   "metadata": {
    "id": "F18p8M7lZdmg"
   },
   "source": [
    "The location data for Italy is appended to each row within `covid_df`. If the `covid_df` data frame contained data for multiple locations, then the respective country's location data would be appended for each row.\n",
    "\n",
    "We can now calculate metrics like cases per million, deaths per million, and tests per million."
   ]
  },
  {
   "cell_type": "code",
   "execution_count": null,
   "metadata": {
    "id": "M1cC1u07Zdmg"
   },
   "outputs": [],
   "source": [
    "merged_df['cases_per_million'] = merged_df.total_cases * 1e6 / merged_df.population"
   ]
  },
  {
   "cell_type": "code",
   "execution_count": null,
   "metadata": {
    "id": "ZQyzoCLfZdmg"
   },
   "outputs": [],
   "source": [
    "merged_df['deaths_per_million'] = merged_df.total_deaths * 1e6 / merged_df.population"
   ]
  },
  {
   "cell_type": "code",
   "execution_count": null,
   "metadata": {
    "id": "bdeM0pZqZdmg"
   },
   "outputs": [],
   "source": [
    "merged_df['tests_per_million'] = merged_df.total_tests * 1e6 / merged_df.population"
   ]
  },
  {
   "cell_type": "code",
   "execution_count": null,
   "metadata": {
    "id": "hzaY7RcCZdmg",
    "outputId": "1d14d84e-e59d-4b72-dd9f-64d10bf3497e"
   },
   "outputs": [],
   "source": [
    "merged_df"
   ]
  },
  {
   "cell_type": "markdown",
   "metadata": {
    "id": "jT0xfZ1TZdmh"
   },
   "source": [
    "Let's save and commit our work before continuing."
   ]
  },
  {
   "cell_type": "code",
   "execution_count": null,
   "metadata": {
    "id": "0YqcwBg8Zdmh"
   },
   "outputs": [],
   "source": [
    "import jovian"
   ]
  },
  {
   "cell_type": "code",
   "execution_count": null,
   "metadata": {
    "id": "sGr2wDlsZdmh",
    "outputId": "80141e70-1a78-46b6-844e-fe24249ef489"
   },
   "outputs": [],
   "source": [
    "jovian.commit()"
   ]
  },
  {
   "cell_type": "markdown",
   "metadata": {
    "id": "9BxNXZ8uZdmh"
   },
   "source": [
    "## Writing data back to files\n",
    "\n",
    "After completing your analysis and adding new columns, you should write the results back to a file. Otherwise, the data will be lost when the Jupyter notebook shuts down. Before writing to file, let us first create a data frame containing just the columns we wish to record."
   ]
  },
  {
   "cell_type": "code",
   "execution_count": null,
   "metadata": {
    "id": "a-SGhoEWZdmh"
   },
   "outputs": [],
   "source": [
    "result_df = merged_df[['date',\n",
    "                       'new_cases', \n",
    "                       'total_cases', \n",
    "                       'new_deaths', \n",
    "                       'total_deaths', \n",
    "                       'new_tests', \n",
    "                       'total_tests', \n",
    "                       'cases_per_million', \n",
    "                       'deaths_per_million', \n",
    "                       'tests_per_million']]"
   ]
  },
  {
   "cell_type": "code",
   "execution_count": null,
   "metadata": {
    "id": "B-I3rFg9Zdmh",
    "outputId": "1a56919c-e9e7-4cc2-94d4-547b26071b95"
   },
   "outputs": [],
   "source": [
    "result_df"
   ]
  },
  {
   "cell_type": "markdown",
   "metadata": {
    "id": "zHpGcJrPZdmh"
   },
   "source": [
    "To write the data from the data frame into a file, we can use the `to_csv` function. "
   ]
  },
  {
   "cell_type": "code",
   "execution_count": null,
   "metadata": {
    "id": "cWb_6H6nZdmh"
   },
   "outputs": [],
   "source": [
    "result_df.to_csv('results.csv', index=None)"
   ]
  },
  {
   "cell_type": "markdown",
   "metadata": {
    "id": "M5CjqdTAZdmh"
   },
   "source": [
    "The `to_csv` function also includes an additional column for storing the index of the dataframe by default. We pass `index=None` to turn off this behavior. You can now verify that the `results.csv` is created and contains data from the data frame in CSV format:\n",
    "\n",
    "```\n",
    "date,new_cases,total_cases,new_deaths,total_deaths,new_tests,total_tests,cases_per_million,deaths_per_million,tests_per_million\n",
    "2020-02-27,78.0,400.0,1.0,12.0,,,6.61574439992122,0.1984723319976366,\n",
    "2020-02-28,250.0,650.0,5.0,17.0,,,10.750584649871982,0.28116913699665186,\n",
    "2020-02-29,238.0,888.0,4.0,21.0,,,14.686952567825108,0.34732658099586405,\n",
    "2020-03-01,240.0,1128.0,8.0,29.0,,,18.656399207777838,0.47964146899428844,\n",
    "2020-03-02,561.0,1689.0,6.0,35.0,,,27.93498072866735,0.5788776349931067,\n",
    "2020-03-03,347.0,2036.0,17.0,52.0,,,33.67413899559901,0.8600467719897585,\n",
    "...\n",
    "```"
   ]
  },
  {
   "cell_type": "markdown",
   "metadata": {
    "id": "ZTunXtAmZdmh"
   },
   "source": [
    "You can attach the `results.csv` file to our notebook while uploading it to [Jovian](https://jovian.ai) using the `outputs` argument to `jovian.commit`."
   ]
  },
  {
   "cell_type": "code",
   "execution_count": null,
   "metadata": {
    "id": "zNE86xbqZdmh"
   },
   "outputs": [],
   "source": [
    "import jovian"
   ]
  },
  {
   "cell_type": "code",
   "execution_count": null,
   "metadata": {
    "id": "UBlqD7KaZdmh",
    "outputId": "85a32a9e-921f-4dbb-e44d-856e107395ec"
   },
   "outputs": [],
   "source": [
    "jovian.commit(outputs=['results.csv'])"
   ]
  },
  {
   "cell_type": "markdown",
   "metadata": {
    "id": "scppRUf6Zdmh"
   },
   "source": [
    "You can find the CSV file in the \"Files\" tab on the project page."
   ]
  },
  {
   "cell_type": "markdown",
   "metadata": {
    "id": "kmeGn-a0Zdmh"
   },
   "source": [
    "## Bonus: Basic Plotting with Pandas\n",
    "\n",
    "We generally use a library like `matplotlib` or `seaborn` plot graphs within a Jupyter notebook. However, Pandas dataframes & series provide a handy `.plot` method for quick and easy plotting.\n",
    "\n",
    "Let's plot a line graph showing how the number of daily cases varies over time."
   ]
  },
  {
   "cell_type": "code",
   "execution_count": null,
   "metadata": {
    "id": "sL7HzaPOZdmh",
    "outputId": "6b3422a6-12fa-4f67-b59d-72215ecafba6"
   },
   "outputs": [],
   "source": [
    "result_df.new_cases.plot();"
   ]
  },
  {
   "cell_type": "markdown",
   "metadata": {
    "id": "tNfRaY5cZdmi"
   },
   "source": [
    "While this plot shows the overall trend, it's hard to tell where the peak occurred, as there are no dates on the X-axis. We can use the `date` column as the index for the data frame to address this issue."
   ]
  },
  {
   "cell_type": "code",
   "execution_count": null,
   "metadata": {
    "id": "dQzynbbLZdmi"
   },
   "outputs": [],
   "source": [
    "result_df.set_index('date', inplace=True)"
   ]
  },
  {
   "cell_type": "code",
   "execution_count": null,
   "metadata": {
    "id": "kNR-9MqDZdmi",
    "outputId": "500adccc-ebc9-42be-b808-c320b24f98d5"
   },
   "outputs": [],
   "source": [
    "result_df"
   ]
  },
  {
   "cell_type": "markdown",
   "metadata": {
    "id": "1sE72oYsZdmi"
   },
   "source": [
    "Notice that the index of a data frame doesn't have to be numeric. Using the date as the index also allows us to get the data for a specific data using `.loc`."
   ]
  },
  {
   "cell_type": "code",
   "execution_count": null,
   "metadata": {
    "id": "LlI1OAMsZdmi",
    "outputId": "e4f7ffe2-8378-432b-a64c-697106bea340"
   },
   "outputs": [],
   "source": [
    "result_df.loc['2020-09-01']"
   ]
  },
  {
   "cell_type": "markdown",
   "metadata": {
    "id": "fdNOuqF0Zdmi"
   },
   "source": [
    "Let's plot the new cases & new deaths per day as line graphs."
   ]
  },
  {
   "cell_type": "code",
   "execution_count": null,
   "metadata": {
    "id": "xKbbIw8dZdmi",
    "outputId": "d2c7c919-e588-40ea-f0ce-8c457b994b13"
   },
   "outputs": [],
   "source": [
    "result_df.new_cases.plot()\n",
    "result_df.new_deaths.plot();"
   ]
  },
  {
   "cell_type": "markdown",
   "metadata": {
    "id": "O5mHf2iLZdmi"
   },
   "source": [
    "We can also compare the total cases vs. total deaths."
   ]
  },
  {
   "cell_type": "code",
   "execution_count": null,
   "metadata": {
    "id": "l0-a27j_Zdmi",
    "outputId": "918f5685-fc2b-4941-c3e6-4bd769a5ad27"
   },
   "outputs": [],
   "source": [
    "result_df.total_cases.plot()\n",
    "result_df.total_deaths.plot();"
   ]
  },
  {
   "cell_type": "markdown",
   "metadata": {
    "id": "dunSjbsQZdmi"
   },
   "source": [
    "Let's see how the death rate and positive testing rates vary over time."
   ]
  },
  {
   "cell_type": "code",
   "execution_count": null,
   "metadata": {
    "id": "PckeHNjmZdmi"
   },
   "outputs": [],
   "source": [
    "death_rate = result_df.total_deaths / result_df.total_cases"
   ]
  },
  {
   "cell_type": "code",
   "execution_count": null,
   "metadata": {
    "id": "mKmoYZtFZdmj",
    "outputId": "8e4a0da6-8bb3-4e4c-ca6e-4308f80dd257"
   },
   "outputs": [],
   "source": [
    "death_rate.plot(title='Death Rate');"
   ]
  },
  {
   "cell_type": "code",
   "execution_count": null,
   "metadata": {
    "id": "0gLuNvmxZdmj",
    "outputId": "97e10ddf-78aa-419a-fda9-d4b157afc43f"
   },
   "outputs": [],
   "source": [
    "positive_rates = result_df.total_cases / result_df.total_tests\n",
    "positive_rates.plot(title='Positive Rate');"
   ]
  },
  {
   "cell_type": "markdown",
   "metadata": {
    "id": "xKUL67hpZdmj"
   },
   "source": [
    "Finally, let's plot some month-wise data using a bar chart to visualize the trend at a higher level."
   ]
  },
  {
   "cell_type": "code",
   "execution_count": null,
   "metadata": {
    "id": "5ifcLeSVZdmj",
    "outputId": "22b0c051-7aca-4a77-83d5-df59ff18231e"
   },
   "outputs": [],
   "source": [
    "covid_month_df.new_cases.plot(kind='bar');"
   ]
  },
  {
   "cell_type": "code",
   "execution_count": null,
   "metadata": {
    "id": "8VQFGw-KZdmj",
    "outputId": "b8c2e046-5f6e-4684-dec4-71812d959a8c"
   },
   "outputs": [],
   "source": [
    "covid_month_df.new_tests.plot(kind='bar')"
   ]
  },
  {
   "cell_type": "markdown",
   "metadata": {
    "id": "-ujWX65bZdmj"
   },
   "source": [
    "Let's save and commit our work to Jovian."
   ]
  },
  {
   "cell_type": "code",
   "execution_count": null,
   "metadata": {
    "id": "V8AbcGbIZdmj"
   },
   "outputs": [],
   "source": [
    "import jovian"
   ]
  },
  {
   "cell_type": "code",
   "execution_count": null,
   "metadata": {
    "id": "8_NFKBvRZdmj",
    "outputId": "64cb45ae-e674-4e80-987b-3708c98332d8"
   },
   "outputs": [],
   "source": [
    "jovian.commit()"
   ]
  },
  {
   "cell_type": "markdown",
   "metadata": {
    "id": "Liejxi7pZdmk"
   },
   "source": [
    "## Exercises\n",
    "\n",
    "Try the following exercises to become familiar with Pandas dataframe and practice your skills:\n",
    "\n",
    "* Assignment on Pandas dataframes: https://jovian.ml/aakashns/pandas-practice-assignment\n",
    "* Additional exercises on Pandas: https://github.com/guipsamora/pandas_exercises\n",
    "* Try downloading and analyzing some data from Kaggle: https://www.kaggle.com/datasets\n",
    "\n"
   ]
  },
  {
   "cell_type": "markdown",
   "metadata": {
    "id": "0p_2_Q4-Zdmk"
   },
   "source": [
    "## Summary and Further Reading\n",
    "\n",
    "\n",
    "We've covered the following topics in this tutorial:\n",
    "\n",
    "- Reading a CSV file into a Pandas data frame\n",
    "- Retrieving data from Pandas data frames\n",
    "- Querying, soring, and analyzing data\n",
    "- Merging, grouping, and aggregation of data\n",
    "- Extracting useful information from dates\n",
    "- Basic plotting using line and bar charts\n",
    "- Writing data frames to CSV files\n",
    "\n",
    "\n",
    "Check out the following resources to learn more about Pandas:\n",
    "\n",
    "* User guide for Pandas: https://pandas.pydata.org/docs/user_guide/index.html\n",
    "* Python for Data Analysis (book by Wes McKinney - creator of Pandas): https://www.oreilly.com/library/view/python-for-data/9781491957653/\n",
    "\n",
    "You are ready to move on to the next tutorial: [Data Visualization using Matplotlib & Seaborn](https://jovian.ai/aakashns/python-matplotlib-data-visualization)."
   ]
  },
  {
   "cell_type": "markdown",
   "metadata": {
    "id": "jBNIbsRFZdmk"
   },
   "source": [
    "## Questions for Revision\n",
    "\n",
    "Try answering the following questions to test your understanding of the topics covered in this notebook:\n",
    "\n",
    "1. What is Pandas? What makes it useful?\n",
    "2. How do you install the Pandas library?\n",
    "3. How do you import the `pandas` module?\n",
    "4. What is the common alias used while importing the `pandas` module?\n",
    "5. How do you read a CSV file using Pandas? Give an example?\n",
    "6. What are some other file formats you can read using Pandas? Illustrate with examples.\n",
    "7. What are Pandas dataframes? \n",
    "8. How are Pandas dataframes different from Numpy arrays?\n",
    "9. How do you find the number of rows and columns in a dataframe?\n",
    "10. How do you get the list of columns in a dataframe?\n",
    "11. What is the purpose of the `describe` method of a dataframe?\n",
    "12. How are the `info` and `describe` dataframe methods different?\n",
    "13. Is a Pandas dataframe conceptually similar to a list of dictionaries or a dictionary of lists? Explain with an example.\n",
    "14. What is a Pandas `Series`? How is it different from a Numpy array?\n",
    "15. How do you access a column from a dataframe?\n",
    "16. How do you access a row from a dataframe?\n",
    "17. How do you access an element at a specific row & column of a dataframe?\n",
    "18. How do you create a subset of a dataframe with a specific set of columns?\n",
    "19. How do you create a subset of a dataframe with a specific range of rows?\n",
    "20. Does changing a value within a dataframe affect other dataframes created using a subset of the rows or columns? Why is it so?\n",
    "21. How do you create a copy of a dataframe?\n",
    "22. Why should you avoid creating too many copies of a dataframe?\n",
    "23. How do you view the first few rows of a dataframe?\n",
    "24. How do you view the last few rows of a dataframe?\n",
    "25. How do you view a random selection of rows of a dataframe?\n",
    "26. What is the \"index\" in a dataframe? How is it useful?\n",
    "27. What does a `NaN` value in a Pandas dataframe represent?\n",
    "28. How is `Nan` different from `0`?\n",
    "29. How do you identify the first non-empty row in a Pandas series or column?\n",
    "30. What is the difference between `df.loc` and `df.at`?\n",
    "31. Where can you find a full list of methods supported by Pandas `DataFrame` and `Series` objects?\n",
    "32. How do you find the sum of numbers in a column of dataframe?\n",
    "33. How do you find the mean of numbers in a column of a dataframe?\n",
    "34. How do you find the number of non-empty numbers in a column of a dataframe?\n",
    "35. What is the result obtained by using a Pandas column in a boolean expression? Illustrate with an example.\n",
    "36. How do you select a subset of rows where a specific column's value meets a given condition? Illustrate with an example.\n",
    "37. What is the result of the expression `df[df.new_cases > 100]` ?\n",
    "38. How do you display all the rows of a pandas dataframe in a Jupyter cell output?\n",
    "39. What is the result obtained when you perform an arithmetic operation between two columns of a dataframe? Illustrate with an example.\n",
    "40. How do you add a new column to a dataframe by combining values from two existing columns? Illustrate with an example.\n",
    "41. How do you remove a column from a dataframe? Illustrate with an example.\n",
    "42. What is the purpose of the `inplace` argument in dataframe methods?\n",
    "43. How do you sort the rows of a dataframe based on the values in a particular column?\n",
    "44. How do you sort a pandas dataframe using values from multiple columns?\n",
    "45. How do you specify whether to sort by ascending or descending order while sorting a Pandas dataframe?\n",
    "46. How do you change a specific value within a dataframe?\n",
    "47. How do you convert a dataframe column to the `datetime` data type?\n",
    "48. What are the benefits of using the `datetime` data type instead of `object`?\n",
    "49. How do you extract different parts of a date column like the month, year, month, weekday, etc., into separate columns? Illustrate with an example.\n",
    "50. How do you aggregate multiple columns of a dataframe together?\n",
    "51. What is the purpose of the `groupby` method of a dataframe? Illustrate with an example.\n",
    "52. What are the different ways in which you can aggregate the groups created by `groupby`?\n",
    "53. What do you mean by a running or cumulative sum? \n",
    "54. How do you create a new column containing the running or cumulative sum of another column?\n",
    "55. What are other cumulative measures supported by Pandas dataframes?\n",
    "56. What does it mean to merge two dataframes? Give an example.\n",
    "57. How do you specify the columns that should be used for merging two dataframes?\n",
    "58. How do you write data from a Pandas dataframe into a CSV file? Give an example.\n",
    "59. What are some other file formats you can write to from a Pandas dataframe? Illustrate with examples.\n",
    "60. How do you create a line plot showing the values within a column of dataframe?\n",
    "61. How do you convert a column of a dataframe into its index?\n",
    "62. Can the index of a dataframe be non-numeric?\n",
    "63. What are the benefits of using a non-numeric dataframe? Illustrate with an example.\n",
    "64. How you create a bar plot showing the values within a column of a dataframe?\n",
    "65. What are some other types of plots supported by Pandas dataframes and series?\n"
   ]
  },
  {
   "cell_type": "code",
   "execution_count": null,
   "metadata": {
    "id": "Xas304M8Zdmk"
   },
   "outputs": [],
   "source": []
  }
 ],
 "metadata": {
  "colab": {
   "provenance": []
  },
  "kernelspec": {
   "display_name": "Python 3 (ipykernel)",
   "language": "python",
   "name": "python3"
  },
  "language_info": {
   "codemirror_mode": {
    "name": "ipython",
    "version": 3
   },
   "file_extension": ".py",
   "mimetype": "text/x-python",
   "name": "python",
   "nbconvert_exporter": "python",
   "pygments_lexer": "ipython3",
   "version": "3.10.4"
  }
 },
 "nbformat": 4,
 "nbformat_minor": 4
}
