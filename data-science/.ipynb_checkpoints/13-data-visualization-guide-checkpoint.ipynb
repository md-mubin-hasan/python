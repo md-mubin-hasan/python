{
 "cells": [
  {
   "cell_type": "markdown",
   "metadata": {
    "id": "6Jn-CsdObHfW"
   },
   "source": [
    "![Image of Yaktocat](https://i.imgur.com/jfbcpSS.jpg)"
   ]
  },
  {
   "cell_type": "markdown",
   "metadata": {
    "id": "0PH82My7bHfa"
   },
   "source": [
    "## Data Visualization\n",
    "Data visualization is the graphic representation of data. It involves producing images that communicate relationships among the represented data to viewers. Visualizing data is an esstential part of data analysis and machine learning, but choosing the right type of visualization is often challenging. This guide provides an introduction to popluar data visualization techniques, by presenting sample use cases and providing code examples using Python.\n",
    "\n",
    "Types of graphs covered:\n",
    "\n",
    " - Line graph\n",
    " - Scatter plot\n",
    " - Histogram and Frequency Distribution\n",
    " - Heatmap\n",
    " - Contour Plot\n",
    " - Box Plot\n",
    " - Bar Chart"
   ]
  },
  {
   "cell_type": "markdown",
   "metadata": {
    "id": "otffR_L9bHfa"
   },
   "source": [
    "## Import libraries\n",
    "\n",
    "- [Matplotlib](https://matplotlib.org/): Plotting and visualization library for Python. We'll use the `pyplot` module from `matplotlib`. As convention, it is often imported as `plt`.\n",
    "- [Seaborn](https://seaborn.pydata.org/): An easy-to-use visualizetion library that builds on top of Matplotlib and lets you create beautiful charts with just a few lines of code."
   ]
  },
  {
   "cell_type": "code",
   "execution_count": null,
   "metadata": {
    "id": "0Wsx8JpGbHfb"
   },
   "outputs": [],
   "source": [
    "# Uncomment the next line to install the required libraries\n",
    "# !pip install matplotlib seaborn --upgrade --quiet"
   ]
  },
  {
   "cell_type": "code",
   "execution_count": null,
   "metadata": {
    "id": "9QgOFTkObHfc"
   },
   "outputs": [],
   "source": [
    "# Import libraries\n",
    "import matplotlib\n",
    "import matplotlib.pyplot as plt\n",
    "import seaborn as sns"
   ]
  },
  {
   "cell_type": "code",
   "execution_count": null,
   "metadata": {
    "id": "XTq1YrtobHfe"
   },
   "outputs": [],
   "source": [
    "# Configuring styles\n",
    "sns.set_style(\"darkgrid\")\n",
    "matplotlib.rcParams['font.size'] = 14\n",
    "matplotlib.rcParams['figure.figsize'] = (9, 5)\n",
    "matplotlib.rcParams['figure.facecolor'] = '#00000000'"
   ]
  },
  {
   "cell_type": "markdown",
   "metadata": {
    "id": "8kZ4TI5jbHfh"
   },
   "source": [
    "## Line Chart"
   ]
  },
  {
   "cell_type": "markdown",
   "metadata": {
    "id": "-YBHCmy1bHfh"
   },
   "source": [
    "A line chart displays information as a series of data points or markers, connected by a straight lines. You can customize the shape, size, color and other aesthetic elements of the markers and lines for better visual clarity.\n",
    "\n",
    "### Example \n",
    "\n",
    "We'll create a line chart to compare the yields of apples and oranges over 12 years in the imaginary region of Hoenn."
   ]
  },
  {
   "cell_type": "code",
   "execution_count": null,
   "metadata": {
    "id": "CMdWT18VbHfi",
    "outputId": "311d7ca0-951f-4ece-aac0-54acaf1b0848"
   },
   "outputs": [],
   "source": [
    "# Sample data\n",
    "years = range(2000, 2012)\n",
    "apples = [0.895, 0.91, 0.919, 0.926, 0.929, 0.931, 0.934, 0.936, 0.937, 0.9375, 0.9372, 0.939]\n",
    "oranges = [0.962, 0.941, 0.930, 0.923, 0.918, 0.908, 0.907, 0.904, 0.901, 0.898, 0.9, 0.896, ]\n",
    "\n",
    "# First line\n",
    "plt.plot(years, apples, 'b-x', linewidth=4, markersize=12, markeredgewidth=4, markeredgecolor='navy')\n",
    "\n",
    "# Second line\n",
    "plt.plot(years, oranges, 'r--o', linewidth=4, markersize=12,);\n",
    "\n",
    "# Title\n",
    "plt.title('Crop Yields in Hoenn Region')\n",
    "\n",
    "# Line labels\n",
    "plt.legend(['Apples', 'Oranges'])\n",
    "\n",
    "# Axis labels\n",
    "plt.xlabel('Year'); plt.ylabel('Yield (tons)');"
   ]
  },
  {
   "cell_type": "markdown",
   "metadata": {
    "id": "Ylx_tRlSbHfj"
   },
   "source": [
    "## Scatter Plot\n",
    "In a scatter plot, the values of 2 variables are plotted as points on a 2-dimensional grid. Additonally, you can also use a third variable to determine the size or color of the points.\n",
    "\n",
    "### Example\n",
    "The [Iris flower dataset](https://en.wikipedia.org/wiki/Iris_flower_data_set) provides samples measurements of sepals and petals for 3 species of flowers. The Iris dataset is included with the `seaborn` library, and can be loaded as a `pandas` dataframe."
   ]
  },
  {
   "cell_type": "code",
   "execution_count": null,
   "metadata": {
    "id": "KG96Gb4rbHfj",
    "outputId": "666cf20f-7d3e-4803-c868-850a25250d86"
   },
   "outputs": [],
   "source": [
    "# Load data into a Pandas dataframe\n",
    "data = sns.load_dataset(\"iris\")\n",
    "\n",
    "# View the data\n",
    "data.sample(5)"
   ]
  },
  {
   "cell_type": "markdown",
   "metadata": {
    "id": "A7BVmYrwbHfj"
   },
   "source": [
    "We can use a scatter plot to visualize sepal length & sepal witdh vary across different species of flowers. The points for each species form a separate cluster, with some overlap between the Versicolor and Virginica species."
   ]
  },
  {
   "cell_type": "code",
   "execution_count": null,
   "metadata": {
    "id": "EXHNI7gqbHfk",
    "outputId": "fe9b1b07-9386-45e0-f7e2-b63a2ce27596"
   },
   "outputs": [],
   "source": [
    "# Create a scatter plot\n",
    "sns.scatterplot(data.sepal_length, # X-axis\n",
    "                data.sepal_width,  # Y-axis\n",
    "                hue=data.species,  # Dot color\n",
    "                s=100);\n",
    "\n",
    "# Chart title\n",
    "plt.title(\"Flowers\");"
   ]
  },
  {
   "cell_type": "markdown",
   "metadata": {
    "id": "qqG5LXybbHfk"
   },
   "source": [
    "## Histogram and Frequency Distribution\n",
    "\n",
    "A histogram represents the distribution of data by forming bins along the range of the data and then drawing bars to show the number of observations that fall in each bin.\n",
    "\n",
    "### Example\n",
    "We can use a histogram to visualize how the values of sepal width are distributed. "
   ]
  },
  {
   "cell_type": "code",
   "execution_count": null,
   "metadata": {
    "id": "Xe0w4yESbHfk",
    "outputId": "e2d3f747-89b5-4f76-bb2e-553e66beaa68"
   },
   "outputs": [],
   "source": [
    "plt.title(\"Distribution of Sepal Width\")\n",
    "\n",
    "sns.distplot(data.sepal_width, kde=False);"
   ]
  },
  {
   "cell_type": "markdown",
   "metadata": {
    "id": "6yC1MHbHbHfk"
   },
   "source": [
    "We can immediately see that values of sepal width fall in the range 2.0 - 4.5, and around 35 values are in the range 2.9 - 3.1. We can also look at this data as a frequency distribution, where the values on Y-axis are percentagess instead of counts."
   ]
  },
  {
   "cell_type": "code",
   "execution_count": null,
   "metadata": {
    "id": "v7JzF2MkbHfl",
    "outputId": "5f36174a-de9c-4d49-e94c-3b343cbfd438"
   },
   "outputs": [],
   "source": [
    "plt.title(\"Distribution of Sepal Width\")\n",
    "\n",
    "sns.distplot(data.sepal_width);"
   ]
  },
  {
   "cell_type": "markdown",
   "metadata": {
    "id": "b3uZoF3SbHfl"
   },
   "source": [
    "## Heatmap\n",
    "\n",
    "A heatamp is used to visualize 2-dimensional data like a matrix or a table using colors.\n",
    "\n",
    "### Example\n",
    "We'll use another sample dataset from Seaborn, called \"flights\", to visualize monthly passenger footfall at an airport over 12 years."
   ]
  },
  {
   "cell_type": "code",
   "execution_count": null,
   "metadata": {
    "id": "quCFxvm7bHfl",
    "outputId": "6c29f434-2550-4243-d7f8-a74f6d7b57d1"
   },
   "outputs": [],
   "source": [
    "# Load the example flights dataset as a matrix\n",
    "flights = sns.load_dataset(\"flights\").pivot(\"month\", \"year\", \"passengers\")\n",
    "\n",
    "# Chart Title\n",
    "plt.title(\"No. of Passengers (1000s)\")\n",
    "\n",
    "# Draw a heatmap with the numeric values in each cell\n",
    "sns.heatmap(flights, \n",
    "            fmt=\"d\", \n",
    "            annot=True, \n",
    "            linewidths=.5, \n",
    "            cmap='Blues',\n",
    "            annot_kws={\"fontsize\":13});"
   ]
  },
  {
   "cell_type": "markdown",
   "metadata": {
    "id": "bg3N7BkybHfm"
   },
   "source": [
    "## Contour Plot\n",
    "\n",
    "Contour plot uses contours or color-coded regions helps us to visualize 3 numerical variables in two dimensions. One variable is represented on the horizontal axis and a second variable is represented on the vertical axis. The third variable is represented by a color gradient and isolines (lines of constant value). \n",
    "\n",
    "## Example\n",
    "We can visulize the values of sepal width & sepal length from the flowers dataset using a contour plot. The shade of blue represent the density of values in a region of the graph."
   ]
  },
  {
   "cell_type": "code",
   "execution_count": null,
   "metadata": {
    "id": "WpIJBHhSbHfm",
    "outputId": "2f14c9d5-8d54-47cb-e540-20f231d2505b"
   },
   "outputs": [],
   "source": [
    "plt.title(\"Flowers\")\n",
    "\n",
    "sns.kdeplot(data.sepal_length, data.sepal_width, shade=True, shade_lowest=False);"
   ]
  },
  {
   "cell_type": "markdown",
   "metadata": {
    "id": "ZDpRKNeDbHfm"
   },
   "source": [
    "We can segment speicies of flowers by creating multiple contour plots with different colors."
   ]
  },
  {
   "cell_type": "code",
   "execution_count": null,
   "metadata": {
    "id": "CK5GrKg4bHfn",
    "outputId": "146329e9-cb26-463f-9aba-3b0f9fc094f8"
   },
   "outputs": [],
   "source": [
    "setosa = data[data.species == 'setosa']\n",
    "virginica = data[data.species == 'virginica']\n",
    "\n",
    "plt.title(\"Flowers (Setosa & Virginica)\")\n",
    "\n",
    "sns.kdeplot(setosa.sepal_length, setosa.sepal_width, shade=True, cmap='Reds', shade_lowest=False)\n",
    "sns.kdeplot(virginica.sepal_length, virginica.sepal_width, shade=True, cmap='Blues', shade_lowest=False);"
   ]
  },
  {
   "cell_type": "markdown",
   "metadata": {
    "id": "mv22uotLbHfn"
   },
   "source": [
    "## Box Plot\n",
    "A box plot shows the distribution of data along a single axis, using a \"box\" and \"whiskers\". The lower end of the box represents the 1st quartile (i.e. 25% of values are below it), and the upper end of the box represents the 3rd quartile (i.e. 25% of values are above it). The median value is represented via a line inside the box. The \"whiskers\" represent the minimum & maximum values (sometimes excluding outliers, which are represented as dots).\n",
    "\n",
    "### Example\n",
    "We'll use another sample dataset included with Seaborn, called \"tips\". The dataset contains information about the sex, time of day, total bill and tip amount for customers visiting a restraurant over a week."
   ]
  },
  {
   "cell_type": "code",
   "execution_count": null,
   "metadata": {
    "id": "UwwssokmbHfn",
    "outputId": "48f20347-115c-4958-8d33-1ab6a5de6364"
   },
   "outputs": [],
   "source": [
    "# Load the example tips dataset\n",
    "tips = sns.load_dataset(\"tips\");\n",
    "tips"
   ]
  },
  {
   "cell_type": "markdown",
   "metadata": {
    "id": "U7a-IApYbHfn"
   },
   "source": [
    "We can use a box plot to visualize the distribution of total bill for each day of the week, segmented by whether the customer was a smoker."
   ]
  },
  {
   "cell_type": "code",
   "execution_count": null,
   "metadata": {
    "id": "wF_Au5aabHfn",
    "outputId": "2dc0aab4-771e-4805-b53a-52279d7e37f3"
   },
   "outputs": [],
   "source": [
    "# Chart title\n",
    "plt.title(\"Daily Total Bill\")\n",
    "\n",
    "# Draw a nested boxplot to show bills by day and time\n",
    "sns.boxplot(tips.day, tips.total_bill, hue=tips.smoker);"
   ]
  },
  {
   "cell_type": "markdown",
   "metadata": {
    "id": "KFRMnfB4bHfn"
   },
   "source": [
    "## Bar Chart\n",
    "\n",
    "A bar chart presents categorical data with rectangular bars with heights proportional to the values that they represent. If there are multiple values for each category, then a bar plot can also represent the average value, with confidence intervals.\n",
    "\n",
    "\n",
    "### Example\n",
    "We can use a bar chart visulize the average value of total bill for different days of the week, segmented by sex, for the \"tips\" dataset"
   ]
  },
  {
   "cell_type": "code",
   "execution_count": null,
   "metadata": {
    "id": "h0TNltc8bHfo",
    "outputId": "9e393a37-8490-4443-addb-81a3e0faaa31"
   },
   "outputs": [],
   "source": [
    "sns.barplot(x=\"day\", y=\"total_bill\", hue=\"sex\", data=tips);"
   ]
  },
  {
   "cell_type": "markdown",
   "metadata": {
    "id": "jzxAAeV-bHfo"
   },
   "source": [
    "## Further Reading\n",
    "\n",
    "This guide intends to serve as introduction to the most commonly used data visualization techniques. With minor modifications to the examples shown above, you can visualize a wide variety of datasets. Visit the official documentation websites for more examples & tutorials:\n",
    "\n",
    "- Seaborn: https://seaborn.pydata.org/tutorial.html\n",
    "- Matplotlib: https://matplotlib.org/tutorials/index.html\n",
    "\n",
    "To share your data visualzations online, just install the Jovian python library and run `jovian.commit`."
   ]
  },
  {
   "cell_type": "code",
   "execution_count": null,
   "metadata": {
    "id": "2EK9LJ44bHfo"
   },
   "outputs": [],
   "source": [
    "!pip install jovian --upgrade --quiet"
   ]
  },
  {
   "cell_type": "code",
   "execution_count": null,
   "metadata": {
    "id": "vP6xtfusbHfo",
    "outputId": "d70805f0-f0a4-4c79-ba7b-5f7c63cf8fb7"
   },
   "outputs": [],
   "source": [
    "import jovian"
   ]
  },
  {
   "cell_type": "code",
   "execution_count": null,
   "metadata": {
    "id": "RZS6nUjjbHfo",
    "outputId": "e942451f-6a2b-41c5-90e9-5f539be88c9b"
   },
   "outputs": [],
   "source": [
    "jovian.commit(project='dataviz-cheatsheet')"
   ]
  },
  {
   "cell_type": "code",
   "execution_count": null,
   "metadata": {
    "id": "PohfWXhTbHfo"
   },
   "outputs": [],
   "source": []
  }
 ],
 "metadata": {
  "colab": {
   "provenance": []
  },
  "kernelspec": {
   "display_name": "Python 3 (ipykernel)",
   "language": "python",
   "name": "python3"
  },
  "language_info": {
   "codemirror_mode": {
    "name": "ipython",
    "version": 3
   },
   "file_extension": ".py",
   "mimetype": "text/x-python",
   "name": "python",
   "nbconvert_exporter": "python",
   "pygments_lexer": "ipython3",
   "version": "3.10.4"
  }
 },
 "nbformat": 4,
 "nbformat_minor": 4
}
